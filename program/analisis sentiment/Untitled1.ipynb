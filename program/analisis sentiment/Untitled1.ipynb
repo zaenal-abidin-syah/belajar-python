{
 "cells": [
  {
   "cell_type": "code",
   "execution_count": 2,
   "id": "eb3e4bf1-655d-4bb4-961f-c758b344a8ec",
   "metadata": {},
   "outputs": [],
   "source": [
    "import numpy as np\n",
    "import pandas as pd\n",
    "import nltk\n",
    "from nltk.sentiment.vader import SentimentIntensityAnalyzer"
   ]
  },
  {
   "cell_type": "code",
   "execution_count": 3,
   "id": "a6d0d005-d8b1-4951-bb9e-19de094b1d2a",
   "metadata": {},
   "outputs": [
    {
     "name": "stderr",
     "output_type": "stream",
     "text": [
      "[nltk_data] Downloading package vader_lexicon to\n",
      "[nltk_data]     /home/zaens/nltk_data...\n",
      "[nltk_data]   Package vader_lexicon is already up-to-date!\n",
      "[nltk_data] Downloading package punkt to /home/zaens/nltk_data...\n",
      "[nltk_data]   Package punkt is already up-to-date!\n"
     ]
    },
    {
     "data": {
      "text/plain": [
       "True"
      ]
     },
     "execution_count": 3,
     "metadata": {},
     "output_type": "execute_result"
    }
   ],
   "source": [
    "\n",
    "nltk.download('vader_lexicon')\n",
    "nltk.download('punkt') "
   ]
  },
  {
   "cell_type": "code",
   "execution_count": 4,
   "id": "f71e5bfd-2f67-4d21-9961-b355d1403dbb",
   "metadata": {},
   "outputs": [],
   "source": [
    "sid = SentimentIntensityAnalyzer()"
   ]
  },
  {
   "cell_type": "code",
   "execution_count": 20,
   "id": "8d83b38f-5869-4659-a02d-933ea57b523c",
   "metadata": {},
   "outputs": [
    {
     "data": {
      "text/plain": [
       "0    Internet benar² menghancurkan islam... lama² a...\n",
       "1    apabila orang yang bukan ahlinya dalam beragam...\n",
       "2    Lalu apa bedanya ISIS sama Muhamad yak? Kan sa...\n",
       "3    Perang hobynya iblis sebagai bapak pembunuh,it...\n",
       "4     Emang kau paham tentang Islam \\nSok tau kali kau\n",
       "Name: comments, dtype: object"
      ]
     },
     "execution_count": 20,
     "metadata": {},
     "output_type": "execute_result"
    }
   ],
   "source": [
    "data = pd.read_csv(\"comments.csv\")\n",
    "# data = data[\"0\"]\n",
    "df[\"comments\"] = data['0']\n",
    "df.head()"
   ]
  },
  {
   "cell_type": "code",
   "execution_count": 22,
   "id": "1d8a3d4b-7314-40a6-8f36-818cf72d0112",
   "metadata": {},
   "outputs": [],
   "source": [
    "# lowercase\n",
    "df[\"comments\"] = df[\"comments\"].apply(lambda x: str(x).lower())"
   ]
  },
  {
   "cell_type": "code",
   "execution_count": 23,
   "id": "f5ac01d0-ef58-41f0-b40b-7b0adf04b390",
   "metadata": {},
   "outputs": [
    {
     "data": {
      "text/plain": [
       "0    Internet benar² menghancurkan islam... lama² a...\n",
       "1    apabila orang yang bukan ahlinya dalam beragam...\n",
       "2    Lalu apa bedanya ISIS sama Muhamad yak? Kan sa...\n",
       "3    Perang hobynya iblis sebagai bapak pembunuh,it...\n",
       "4     Emang kau paham tentang Islam \\nSok tau kali kau\n",
       "Name: comments, dtype: object"
      ]
     },
     "execution_count": 23,
     "metadata": {},
     "output_type": "execute_result"
    }
   ],
   "source": [
    "df.head()"
   ]
  },
  {
   "cell_type": "code",
   "execution_count": 25,
   "id": "3d759fe9-4927-44c2-96fa-7d7ea5b78ade",
   "metadata": {},
   "outputs": [],
   "source": [
    "# remove tanda baca dan angka\n",
    "import re\n",
    "\n",
    "def cleansing(teks):\n",
    "    return re.sub(\"\\s+\", ' ', re.sub(r\"[^a-z|\\s]\", '', teks.strip(\" \")))\n",
    "df[\"comments\"] = df[\"comments\"].apply(cleansing)"
   ]
  },
  {
   "cell_type": "code",
   "execution_count": null,
   "id": "d5e297f9-5ec9-4c60-8f18-f702ec0886b7",
   "metadata": {},
   "outputs": [],
   "source": [
    "# Fungsi untuk menentukan sentimen berdasarkan skor compound\n",
    "def analisis_sentimen(teks):\n",
    "    skor = sid.polarity_scores(str(teks))  # Konversi teks ke string untuk menghindari error\n",
    "    if skor['compound'] > 0.05:\n",
    "        return 'Positif'\n",
    "    elif skor['compound'] < -0.05:\n",
    "        return 'Negatif'\n",
    "    else:\n",
    "        return 'Netral'\n",
    "\n",
    "# Menambahkan kolom Sentimen ke dataset\n",
    "# df['Sentimen'] = df[kolom_komentar].apply(analisis_sentimen)\n",
    "for comment in df:\n",
    "    df[\"sentimen\"] = df[\"comments\"].apply(analisis_sentimen)"
   ]
  }
 ],
 "metadata": {
  "kernelspec": {
   "display_name": "Python 3 (ipykernel)",
   "language": "python",
   "name": "python3"
  },
  "language_info": {
   "codemirror_mode": {
    "name": "ipython",
    "version": 3
   },
   "file_extension": ".py",
   "mimetype": "text/x-python",
   "name": "python",
   "nbconvert_exporter": "python",
   "pygments_lexer": "ipython3",
   "version": "3.11.9"
  }
 },
 "nbformat": 4,
 "nbformat_minor": 5
}
