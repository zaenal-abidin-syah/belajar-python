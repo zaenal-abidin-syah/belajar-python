{
 "cells": [
  {
   "cell_type": "markdown",
   "id": "f8ba4869",
   "metadata": {},
   "source": [
    "# Konsep_1\n",
    "\n",
    "Stack adalah salah satu cara penyimpanan data dalam komputer yang bekerja berdasarkan prinsip LIFO (Last In First Out), yang berarti data yang terakhir dimasukkan ke dalam stack akan menjadi data pertama yang keluar dari stack.\n",
    "\n",
    "Operasi-operasi yang terdapat pada Stack meliputi:\n",
    "\n",
    "- Push: Menambahkan data ke dalam stack\n",
    "- Pop: Mengeluarkan data paling atas dari stack\n",
    "- Peek: Melihat data paling atas pada stack tanpa menghapusnya\n",
    "- Size: Mengetahui jumlah data pada stack\n",
    "- isEmpty: Mengetahui apakah stack kosong atau tidak"
   ]
  },
  {
   "cell_type": "code",
   "execution_count": null,
   "id": "7fbcd2ce",
   "metadata": {},
   "outputs": [],
   "source": [
    "def stack():\n",
    "    return []\n",
    "def push(stack, data):\n",
    "    stack.append(data)\n",
    "def pop(stack):\n",
    "    return stack.pop()\n",
    "def peek(stack):\n",
    "    return stack[-1]\n",
    "def isEmpty(stack):\n",
    "    return stack == []\n",
    "def size(stack):\n",
    "    return len(stack)"
   ]
  },
  {
   "cell_type": "markdown",
   "id": "c895c615",
   "metadata": {},
   "source": [
    "# Implementasi_2.1"
   ]
  },
  {
   "cell_type": "code",
   "execution_count": 47,
   "id": "9cda320e",
   "metadata": {},
   "outputs": [
    {
     "name": "stdout",
     "output_type": "stream",
     "text": [
      "19 div 2 = 9 sisa =  1 push(stack, 1 )\n",
      "| 1 |\n",
      "-----\n",
      "9 div 2 = 4 sisa =  1 push(stack, 1 )\n",
      "| 1 |\n",
      "| 1 |\n",
      "-----\n",
      "4 div 2 = 2 sisa =  0 push(stack, 0 )\n",
      "| 0 |\n",
      "| 1 |\n",
      "| 1 |\n",
      "-----\n",
      "2 div 2 = 1 sisa =  0 push(stack, 0 )\n",
      "| 0 |\n",
      "| 0 |\n",
      "| 1 |\n",
      "| 1 |\n",
      "-----\n",
      "1 div 2 = 0 sisa =  1 push(stack, 1 )\n",
      "| 1 |\n",
      "| 0 |\n",
      "| 0 |\n",
      "| 1 |\n",
      "| 1 |\n",
      "-----\n",
      "Biner = 10011\n"
     ]
    }
   ],
   "source": [
    "def dec2bin(num):\n",
    "    temp=stack()\n",
    "    while num>0:\n",
    "        sisa = num%2\n",
    "        print(num, 'div 2 = ', end='')\n",
    "        push(temp,sisa)\n",
    "        num=num//2\n",
    "        print(num, 'sisa = ', sisa, 'push(stack,',sisa,')')\n",
    "        [print('|', st, \"|\") for st in temp[::-1]]\n",
    "        print('-----')\n",
    "        \n",
    "    tempStr=''\n",
    "    for i in range(size(temp)):\n",
    "        tempStr=tempStr+str(pop(temp))\n",
    "    return 'Biner = '+tempStr\n",
    "print(dec2bin(19))"
   ]
  },
  {
   "cell_type": "markdown",
   "id": "89c60bac",
   "metadata": {},
   "source": [
    "# Implementasi_3.1"
   ]
  },
  {
   "cell_type": "code",
   "execution_count": 52,
   "id": "dc3dfc97",
   "metadata": {},
   "outputs": [
    {
     "data": {
      "text/plain": [
       "(False,\n",
       " ['Error : ',\n",
       "  '1. Open Tag </body> --> <title>',\n",
       "  '2. Open Tag </html> --> <body>',\n",
       "  '3. Kelebihan Open Tag : <head>',\n",
       "  '4. Kelebihan Open Tag : <html>'])"
      ]
     },
     "execution_count": 52,
     "metadata": {},
     "output_type": "execute_result"
    }
   ],
   "source": [
    "def isValidateTagHTML(html):\n",
    "    st = stack()\n",
    "    err = ['Error : ']\n",
    "    flag = True\n",
    "    for tag in html.split('\\n'):\n",
    "        if tag.startswith('</'):\n",
    "            if isEmpty(st):\n",
    "                err.append(\"Kelebihan Close Tag : \"+tag)\n",
    "                flag = False\n",
    "    #         kosong\n",
    "            elif tag[2::] != peek(st)[1::]:\n",
    "                err.append(\"Open Tag \"+tag+' --> '+peek(st))\n",
    "                pop(st)\n",
    "                flag = False\n",
    "    #         tidak sama\n",
    "            else:\n",
    "                pop(st)\n",
    "        elif tag.startswith('<'):\n",
    "            push(st, tag)\n",
    "    if not isEmpty(st):\n",
    "        [err.append(f\"Kelebihan Open Tag : \"+ i) for i in st[::-1]]\n",
    "        flag = False\n",
    "    if flag:\n",
    "        return True\n",
    "    return flag, [f\"{i}. {err[i]}\" if i != 0 else err[i] for i in range(len(err))]\n",
    "html = \"\"\"\n",
    "<html>\n",
    "<head>\n",
    "<body>\n",
    "<title>\n",
    "praktiku struktur data\n",
    "<h1>\n",
    "Stack\n",
    "</h1>\n",
    "</body>\n",
    "</html>\n",
    "\"\"\"\n",
    "isValidateTagHTML(html)"
   ]
  },
  {
   "cell_type": "code",
   "execution_count": null,
   "id": "529dc4b4",
   "metadata": {},
   "outputs": [],
   "source": []
  }
 ],
 "metadata": {
  "kernelspec": {
   "display_name": "Python 3 (ipykernel)",
   "language": "python",
   "name": "python3"
  },
  "language_info": {
   "codemirror_mode": {
    "name": "ipython",
    "version": 3
   },
   "file_extension": ".py",
   "mimetype": "text/x-python",
   "name": "python",
   "nbconvert_exporter": "python",
   "pygments_lexer": "ipython3",
   "version": "3.10.6"
  }
 },
 "nbformat": 4,
 "nbformat_minor": 5
}
