{
 "cells": [
  {
   "cell_type": "code",
   "execution_count": 22,
   "id": "a5e5d5ff",
   "metadata": {},
   "outputs": [
    {
     "name": "stdout",
     "output_type": "stream",
     "text": [
      "{'u': 3, 'n': 2, 'i': 2, 'v': 1, 'e': 1, 'r': 3, 's': 2, 't': 2, 'a': 3, ' ': 2, 'o': 3, 'j': 1, 'y': 1, 'm': 1, 'd': 1}\n"
     ]
    }
   ],
   "source": [
    "def histogram(word):\n",
    "    hist = {}\n",
    "    for char in word:\n",
    "        if char in hist:\n",
    "            hist[char]+=1\n",
    "        else:\n",
    "            hist[char]=1\n",
    "    return hist\n",
    "\n",
    "print(histogram('universitas trunojoyo madura'))"
   ]
  },
  {
   "cell_type": "code",
   "execution_count": 58,
   "id": "981f4fc3",
   "metadata": {},
   "outputs": [
    {
     "name": "stdout",
     "output_type": "stream",
     "text": [
      "x =  [3, 2, 6, 3, 5, 1, 5, 1, 1, 8];  y =  30\n",
      "Probabilitas setiap nilai:  [0.08571428571428572, 0.05714285714285714, 0.17142857142857143, 0.08571428571428572, 0.14285714285714285, 0.02857142857142857, 0.14285714285714285, 0.02857142857142857, 0.02857142857142857, 0.22857142857142856]\n",
      "Gini:  0.8571428571428572\n"
     ]
    }
   ],
   "source": [
    "# beritahu saya kesalahan dan solusi program berikut\n",
    "import random\n",
    "\n",
    "def createList(num):\n",
    "    # Fungsi untuk membuat list acak\n",
    "    return [random.randint(1, 10) for i in range(num)]\n",
    "\n",
    "def y(mylist):\n",
    "    return sum(mylist)\n",
    "def pi(mylist):\n",
    "    # Fungsi untuk menghitung nilai Pi\n",
    "    n = len(mylist)\n",
    "    y = sum(mylist)\n",
    "    pi_list = [ mylist[i]/y for i in range(n)]\n",
    "    return pi_list\n",
    "\n",
    "def gini(pi_list):\n",
    "    # Fungsi untuk menghitung nilai Gini\n",
    "    n = len(mylist)\n",
    "#     pi_list = pi(mylist)\n",
    "    sum_pi_squared = sum([pi**2 for pi in pi_list])\n",
    "    gini = 1 - sum_pi_squared\n",
    "    return gini\n",
    "\n",
    "# Contoh penggunaan fungsi\n",
    "list_data = createList(10)\n",
    "# list_data = [3, 7, 1, 12, 5, 2]\n",
    "print(\"x = \", list_data, end='; ')\n",
    "pi = pi(list_data)\n",
    "print(\" y = \", y(mylist))\n",
    "print(\"Probabilitas setiap nilai: \", pi)\n",
    "\n",
    "gini_value = gini(pi)\n",
    "print(\"Gini: \", gini_value)"
   ]
  },
  {
   "cell_type": "code",
   "execution_count": 44,
   "id": "4ed300e4",
   "metadata": {},
   "outputs": [
    {
     "name": "stdout",
     "output_type": "stream",
     "text": [
      "Matriks 1:  [8, 2, 5, 2, 8]\n",
      "Matriks 2:  [3, 1]\n",
      "Hasil penjumlahan dua matriks:  Ukuran Matrix tidak sama\n",
      "Hasil perkalian skalar dengan matriks 1:  [16, 4, 10, 4, 16]\n",
      "Hasil perkalian dua matriks:  Ukuran Matrix tidak sama\n"
     ]
    }
   ],
   "source": [
    "import random\n",
    "\n",
    "def createMatrix1D(n):\n",
    "    # Fungsi untuk membuat list 1D dengan nilai acak\n",
    "    return [random.randint(1, 10) for i in range(n)]\n",
    "\n",
    "def addMatrix1D(m1, m2):\n",
    "    # Fungsi untuk menjumlahkan dua buah matriks 1D dengan ukuran yang sama\n",
    "    return [m1[i]+m2[i] for i in range(len(m1))]if len(m1)==len(m2) else 'Ukuran Matrix tidak sama'\n",
    "\n",
    "def scalarMatrix1D(s, m):\n",
    "    # Fungsi untuk mengalikan skalar dengan sebuah matriks 1D\n",
    "    return [s*m[i] for i in range(len(m))]\n",
    "\n",
    "def duaMatrix1D(m1, m2):\n",
    "    # Fungsi untuk mengalikan dua buah matriks 1D dengan ukuran yang sama\n",
    "    return [m1[1]*m2[i] for i in range(len(m1))] if len(m1)==len(m2) else 'Ukuran Matrix tidak sama'\n",
    "\n",
    "# Contoh penggunaan fungsi\n",
    "m1 = createMatrix1D(5)\n",
    "m2 = createMatrix1D(2)\n",
    "\n",
    "print(\"Matriks 1: \", m1)\n",
    "print(\"Matriks 2: \", m2)\n",
    "\n",
    "result = addMatrix1D(m1, m2)\n",
    "print(\"Hasil penjumlahan dua matriks: \", result)\n",
    "\n",
    "scalar = 2\n",
    "result = scalarMatrix1D(scalar, m1)\n",
    "print(\"Hasil perkalian skalar dengan matriks 1: \", result)\n",
    "\n",
    "result = duaMatrix1D(m1, m2)\n",
    "print(\"Hasil perkalian dua matriks: \", multiply_result)"
   ]
  },
  {
   "cell_type": "code",
   "execution_count": 47,
   "id": "a36b0d28",
   "metadata": {},
   "outputs": [],
   "source": [
    "def createMatrix2D(rows, cols):\n",
    "    return [[0 for j in range(cols)] for i in range(rows)]"
   ]
  },
  {
   "cell_type": "code",
   "execution_count": 48,
   "id": "01dcfc43",
   "metadata": {},
   "outputs": [
    {
     "name": "stdout",
     "output_type": "stream",
     "text": [
      "[[0, 0, 0], [0, 0, 0], [0, 0, 0]]\n"
     ]
    }
   ],
   "source": [
    "matrix = createMatrix2D(3, 3) # Membuat matriks 3x3 yang diinisialisasi dengan 0\n",
    "print(matrix) # Output: [[0, 0, 0], [0, 0, 0], [0, 0, 0]]"
   ]
  },
  {
   "cell_type": "code",
   "execution_count": 64,
   "id": "501a6dd5",
   "metadata": {},
   "outputs": [],
   "source": [
    "def addMatrix2D(m1, m2):\n",
    "    rows = len(m1)\n",
    "    cols = len(m1[0])\n",
    "    result = createMatrix2D(rows, cols)\n",
    "    for i in range(rows):\n",
    "        for j in range(cols):\n",
    "            result[i][j] = matrix1[i][j] + matrix2[i][j]\n",
    "    return result"
   ]
  },
  {
   "cell_type": "code",
   "execution_count": 65,
   "id": "c04b2819",
   "metadata": {},
   "outputs": [
    {
     "name": "stdout",
     "output_type": "stream",
     "text": [
      "[[10, 10, 10], [10, 10, 10], [10, 10, 14]]\n"
     ]
    }
   ],
   "source": [
    "matrix1 = [[1, 2, 3], [4, 5, 6], [7, 8, 9]]\n",
    "matrix2 = [[9, 8, 7], [6, 5, 4], [3, 2, 5]]\n",
    "result = addMatrix2D(matrix1, matrix2)\n",
    "print(result) # Output: [[10, 10, 10], [10, 10, 10], [10, 10, 10]]"
   ]
  },
  {
   "cell_type": "code",
   "execution_count": 61,
   "id": "b19f638f",
   "metadata": {},
   "outputs": [],
   "source": [
    "def duaMatrix2D(m1, m2):\n",
    "    rows1 = len(m1)\n",
    "    cols1 = len(m1[0])\n",
    "    rows2 = len(m2)\n",
    "    cols2 = len(m2[0])\n",
    "    if cols1 != rows2:\n",
    "        return \"Tidak dapat melakukan perkalian matriks\"\n",
    "    result = createMatrix2D(rows1, cols2)\n",
    "    for i in range(rows1):\n",
    "        for j in range(cols2):\n",
    "            for k in range(cols1):\n",
    "                result[i][j] += matrix1[i][k] * matrix2[k][j]\n",
    "    return result"
   ]
  },
  {
   "cell_type": "code",
   "execution_count": 62,
   "id": "7ff516e6",
   "metadata": {},
   "outputs": [
    {
     "name": "stdout",
     "output_type": "stream",
     "text": [
      "[[27, 30, 33], [61, 68, 75], [95, 106, 117]]\n"
     ]
    }
   ],
   "source": [
    "matrix1 = [[1, 2], [3, 4], [5, 6]]\n",
    "matrix2 = [[7, 8, 9], [10, 11, 12]]\n",
    "result = duaMatrix2D(matrix1, matrix2)\n",
    "print(result) # Output: [[27, 30, 33], [61, 68, 75], [95, 106, 117]]"
   ]
  },
  {
   "cell_type": "code",
   "execution_count": null,
   "id": "fc039fcf",
   "metadata": {},
   "outputs": [],
   "source": []
  }
 ],
 "metadata": {
  "kernelspec": {
   "display_name": "Python 3 (ipykernel)",
   "language": "python",
   "name": "python3"
  },
  "language_info": {
   "codemirror_mode": {
    "name": "ipython",
    "version": 3
   },
   "file_extension": ".py",
   "mimetype": "text/x-python",
   "name": "python",
   "nbconvert_exporter": "python",
   "pygments_lexer": "ipython3",
   "version": "3.10.6"
  }
 },
 "nbformat": 4,
 "nbformat_minor": 5
}
