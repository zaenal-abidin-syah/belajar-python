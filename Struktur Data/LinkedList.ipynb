{
 "cells": [
  {
   "cell_type": "code",
   "execution_count": 1,
   "id": "e44afb2b",
   "metadata": {},
   "outputs": [],
   "source": [
    "class Node:\n",
    "    def __init__(self, init_data):\n",
    "        self.data = init_data\n",
    "        self.next = None\n",
    "    def getData(self):\n",
    "        return self.data\n",
    "    def getNext(self):\n",
    "        return self.next\n",
    "    def setData(self, newdata):\n",
    "        self.data = newdata\n",
    "    def setNext(self, new_next):\n",
    "        self.next = new_next"
   ]
  },
  {
   "cell_type": "code",
   "execution_count": 2,
   "id": "c7ccb876",
   "metadata": {},
   "outputs": [
    {
     "name": "stdout",
     "output_type": "stream",
     "text": [
      "None\n",
      "None\n",
      "<__main__.Node object at 0x7fe1e0037460>\n"
     ]
    }
   ],
   "source": [
    "a=Node(93)\n",
    "b=Node(20)\n",
    "print(a.getNext())\n",
    "print(b.getNext())\n",
    "a.setNext(b)\n",
    "print(a.getNext())"
   ]
  },
  {
   "cell_type": "code",
   "execution_count": 3,
   "id": "a692c56a",
   "metadata": {},
   "outputs": [],
   "source": [
    "class LinkedList:\n",
    "    def __init__(self):\n",
    "        self.head = None\n",
    "    def isEmpty(self):\n",
    "        return self.head==None"
   ]
  },
  {
   "cell_type": "code",
   "execution_count": 4,
   "id": "8b503f57",
   "metadata": {},
   "outputs": [],
   "source": [
    "mylist=LinkedList()"
   ]
  },
  {
   "cell_type": "code",
   "execution_count": 5,
   "id": "e3bc09b4",
   "metadata": {},
   "outputs": [
    {
     "name": "stdout",
     "output_type": "stream",
     "text": [
      "None\n"
     ]
    },
    {
     "data": {
      "text/plain": [
       "True"
      ]
     },
     "execution_count": 5,
     "metadata": {},
     "output_type": "execute_result"
    }
   ],
   "source": [
    "print(mylist.head)\n",
    "mylist.isEmpty()"
   ]
  },
  {
   "cell_type": "code",
   "execution_count": 6,
   "id": "a13383ca",
   "metadata": {},
   "outputs": [],
   "source": [
    "class LinkedList:\n",
    "    def __init__(self):\n",
    "        self.head = None\n",
    "    def isEmpty(self):\n",
    "        return self.head==None\n",
    "    def add(self, item):\n",
    "        temp = Node(item)\n",
    "        temp.setNext(self.head)\n",
    "        self.head = temp"
   ]
  },
  {
   "cell_type": "code",
   "execution_count": 7,
   "id": "53e8c581",
   "metadata": {},
   "outputs": [],
   "source": [
    "mylist=LinkedList()"
   ]
  },
  {
   "cell_type": "code",
   "execution_count": 8,
   "id": "10ffeb35",
   "metadata": {},
   "outputs": [
    {
     "name": "stdout",
     "output_type": "stream",
     "text": [
      "None\n"
     ]
    },
    {
     "data": {
      "text/plain": [
       "True"
      ]
     },
     "execution_count": 8,
     "metadata": {},
     "output_type": "execute_result"
    }
   ],
   "source": [
    "print(mylist.head)\n",
    "mylist.isEmpty()"
   ]
  },
  {
   "cell_type": "code",
   "execution_count": 9,
   "id": "5e4cb4ac",
   "metadata": {},
   "outputs": [
    {
     "name": "stdout",
     "output_type": "stream",
     "text": [
      "<__main__.Node object at 0x7fe1e0035d80>\n"
     ]
    }
   ],
   "source": [
    "mylist.add(34)\n",
    "print(mylist.head)"
   ]
  },
  {
   "cell_type": "code",
   "execution_count": 10,
   "id": "7e78ca2e",
   "metadata": {},
   "outputs": [
    {
     "name": "stdout",
     "output_type": "stream",
     "text": [
      "<__main__.Node object at 0x7fe1e0036aa0>\n",
      "45\n"
     ]
    }
   ],
   "source": [
    "mylist.add(45)\n",
    "print(mylist.head)\n",
    "print(mylist.head.data)"
   ]
  },
  {
   "cell_type": "code",
   "execution_count": 11,
   "id": "e9fdb252",
   "metadata": {},
   "outputs": [],
   "source": [
    "mylist.add(21)"
   ]
  },
  {
   "cell_type": "code",
   "execution_count": 12,
   "id": "6ad5150c",
   "metadata": {},
   "outputs": [],
   "source": [
    "class LinkedList:\n",
    "    def __init__(self):\n",
    "        self.head = None\n",
    "    def isEmpty(self):\n",
    "        return self.head==None\n",
    "    def add(self, item):\n",
    "        temp = Node(item)\n",
    "        temp.setNext(self.head)\n",
    "        self.head = temp\n",
    "    def size(self):\n",
    "        curent = self.head\n",
    "        count = 0\n",
    "        while curent != None:\n",
    "            count = count + 1\n",
    "            curent = curent.getNext()\n",
    "        return count"
   ]
  },
  {
   "cell_type": "code",
   "execution_count": 13,
   "id": "73db3f49",
   "metadata": {},
   "outputs": [
    {
     "name": "stdout",
     "output_type": "stream",
     "text": [
      "3\n"
     ]
    }
   ],
   "source": [
    "mylist=LinkedList()\n",
    "mylist.add(45)\n",
    "mylist.add(34)\n",
    "mylist.add(70)\n",
    "print(mylist.size())"
   ]
  },
  {
   "cell_type": "code",
   "execution_count": 14,
   "id": "ba24dbb6",
   "metadata": {},
   "outputs": [],
   "source": [
    "class LinkedList:\n",
    "    def __init__(self):\n",
    "        self.head = None\n",
    "    def isEmpty(self):\n",
    "        return self.head==None\n",
    "    def add(self, item):\n",
    "        temp = Node(item)\n",
    "        temp.setNext(self.head)\n",
    "        self.head = temp\n",
    "    def size(self):\n",
    "        curent = self.head\n",
    "        count = 0\n",
    "        while curent != None:\n",
    "            count = count + 1\n",
    "            curent = curent.getNext()\n",
    "        return count\n",
    "    def search(self,item):\n",
    "        curent = self.head\n",
    "        found = False\n",
    "        while curent != None and not found:\n",
    "            if curent.getData() == item:\n",
    "                found = True\n",
    "            else:\n",
    "                curent = curent.getNext()\n",
    "        return found"
   ]
  },
  {
   "cell_type": "code",
   "execution_count": 15,
   "id": "1627f982",
   "metadata": {},
   "outputs": [
    {
     "data": {
      "text/plain": [
       "True"
      ]
     },
     "execution_count": 15,
     "metadata": {},
     "output_type": "execute_result"
    }
   ],
   "source": [
    "mylist=LinkedList()\n",
    "mylist.add(45)\n",
    "mylist.add(34)\n",
    "mylist.add(70)\n",
    "mylist.add(84)\n",
    "mylist.size()\n",
    "mylist.search(34)"
   ]
  },
  {
   "cell_type": "code",
   "execution_count": 19,
   "id": "08859f6c",
   "metadata": {},
   "outputs": [],
   "source": [
    "class LinkedList:\n",
    "    def __init__(self):\n",
    "        self.head = None\n",
    "    def isEmpty(self):\n",
    "        return self.head==None\n",
    "    def add(self, item):\n",
    "        temp = Node(item)\n",
    "        temp.setNext(self.head)\n",
    "        self.head = temp\n",
    "    def size(self):\n",
    "        curent = self.head\n",
    "        count = 0\n",
    "        while curent != None:\n",
    "            count = count + 1\n",
    "            curent = curent.getNext()\n",
    "        return count\n",
    "    def search(self,item):\n",
    "        curent = self.head\n",
    "        found = False\n",
    "        while curent != None and not found:\n",
    "            if curent.getData() == item:\n",
    "                found = True\n",
    "            else:\n",
    "                curent = curent.getNext()\n",
    "        return found\n",
    "    def display(self):\n",
    "        curent = self.head\n",
    "        while curent != None:\n",
    "            print(curent.getData())\n",
    "            curent = curent.getNext()\n",
    "    def remove(self, item):\n",
    "        curent = self.head\n",
    "        previous = None\n",
    "        found = False\n",
    "        while not found:\n",
    "            if curent.getData() == item:\n",
    "                found = True\n",
    "            else:\n",
    "                previous = curent\n",
    "                curent = curent.getNext()\n",
    "        if previous == None:\n",
    "            self.head = curent.getNext()\n",
    "        else:\n",
    "            previous.setNext(curent.getNext())"
   ]
  },
  {
   "cell_type": "code",
   "execution_count": 21,
   "id": "0aadbd03",
   "metadata": {},
   "outputs": [],
   "source": [
    "mylist=LinkedList()\n",
    "mylist.add(45)\n",
    "mylist.add(34)\n",
    "mylist.add(70)\n",
    "mylist.add(84)\n",
    "mylist.remove(34)"
   ]
  },
  {
   "cell_type": "code",
   "execution_count": 22,
   "id": "4c8ae010",
   "metadata": {},
   "outputs": [
    {
     "name": "stdout",
     "output_type": "stream",
     "text": [
      "84\n",
      "70\n",
      "45\n"
     ]
    }
   ],
   "source": [
    "mylist.display()"
   ]
  },
  {
   "cell_type": "code",
   "execution_count": 23,
   "id": "b92181dd",
   "metadata": {},
   "outputs": [],
   "source": [
    "class OrderedLinkedList:\n",
    "    def __init__(self):\n",
    "        self.head = None\n",
    "    def isEmpty(self):\n",
    "        return self.head==None\n",
    "    def size(self):\n",
    "        curent = self.head\n",
    "        count = 0\n",
    "        while curent != None:\n",
    "            count = count + 1\n",
    "            curent = curent.getNext()\n",
    "        return count\n",
    "    def display(self):\n",
    "        curent = self.head\n",
    "        while curent != None:\n",
    "            print(curent.getData())\n",
    "            curent = curent.getNext()\n",
    "    def remove(self, item):\n",
    "        curent = self.head\n",
    "        previous = None\n",
    "        found = False\n",
    "        while not found:\n",
    "            if curent.getData() == item:\n",
    "                found = True\n",
    "            else:\n",
    "                previous = curent\n",
    "                curent = curent.getNext()\n",
    "        if previous == None:\n",
    "            self.head = curent.getNext()\n",
    "        else:\n",
    "            previous.setNext(curent.getNext())\n",
    "    def search(self,item):\n",
    "        curent = self.head\n",
    "        found = False\n",
    "        stop=False\n",
    "        while curent != None and not found and not stop:\n",
    "            if curent.getData() == item:\n",
    "                found = True\n",
    "            else:\n",
    "                if curent.getData() > item:\n",
    "                    stop = True\n",
    "                else:\n",
    "                    curent = curent.getNext()\n",
    "        return found\n",
    "    def add(self, item):\n",
    "        curent=self.head\n",
    "        previous = None\n",
    "        stop = False\n",
    "        while curent != None and not stop:\n",
    "            if curent.getData() > item:\n",
    "                stop = True\n",
    "            else:\n",
    "                previous = curent\n",
    "                curent = curent.getNext()\n",
    "        temp = Node(item)\n",
    "        if previous == None:\n",
    "            temp.setNext(self.head)\n",
    "            self.head = temp\n",
    "        else: # ditautkan antara previous dengan curent\n",
    "            temp.setNext(curent)\n",
    "            previous.setNext(temp)"
   ]
  },
  {
   "cell_type": "code",
   "execution_count": 24,
   "id": "5bb5c18a",
   "metadata": {},
   "outputs": [],
   "source": [
    "myList=OrderedLinkedList()"
   ]
  },
  {
   "cell_type": "code",
   "execution_count": 25,
   "id": "bde0fb79",
   "metadata": {},
   "outputs": [
    {
     "name": "stdout",
     "output_type": "stream",
     "text": [
      "9\n",
      "14\n"
     ]
    }
   ],
   "source": [
    "myList.add(9)\n",
    "myList.add(14)\n",
    "myList.display()"
   ]
  },
  {
   "cell_type": "code",
   "execution_count": 26,
   "id": "54bc1602",
   "metadata": {},
   "outputs": [
    {
     "name": "stdout",
     "output_type": "stream",
     "text": [
      "9\n",
      "14\n",
      "100\n"
     ]
    }
   ],
   "source": [
    "myList.add(100)\n",
    "myList.display()"
   ]
  },
  {
   "cell_type": "code",
   "execution_count": null,
   "id": "dcfcf6b6",
   "metadata": {},
   "outputs": [],
   "source": []
  }
 ],
 "metadata": {
  "kernelspec": {
   "display_name": "Python 3 (ipykernel)",
   "language": "python",
   "name": "python3"
  },
  "language_info": {
   "codemirror_mode": {
    "name": "ipython",
    "version": 3
   },
   "file_extension": ".py",
   "mimetype": "text/x-python",
   "name": "python",
   "nbconvert_exporter": "python",
   "pygments_lexer": "ipython3",
   "version": "3.10.6"
  }
 },
 "nbformat": 4,
 "nbformat_minor": 5
}
