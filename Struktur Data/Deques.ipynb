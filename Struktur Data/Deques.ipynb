{
 "cells": [
  {
   "cell_type": "code",
   "execution_count": 1,
   "id": "489ebd99",
   "metadata": {},
   "outputs": [],
   "source": [
    "def createDeque():\n",
    "    d=[]\n",
    "    return (d)\n",
    "def addFront(d,data):\n",
    "    d.insert(0,data)\n",
    "    return(d)\n",
    "def addRear(d,data):\n",
    "    d.append(data)\n",
    "    return(d)\n",
    "def removeRear(d):\n",
    "    data=d.pop()\n",
    "    return(data)\n",
    "def removeFront(d):\n",
    "    data=d.pop(0)\n",
    "    return(data)\n",
    "def isEmpty(d):\n",
    "    return (d==[])\n",
    "def size(d):\n",
    "    return (len(d))"
   ]
  },
  {
   "cell_type": "code",
   "execution_count": 2,
   "id": "9e1ef89c",
   "metadata": {},
   "outputs": [],
   "source": [
    "deq=createDeque()"
   ]
  },
  {
   "cell_type": "code",
   "execution_count": 3,
   "id": "112b95f2",
   "metadata": {},
   "outputs": [
    {
     "data": {
      "text/plain": [
       "['data', 'struktur']"
      ]
     },
     "execution_count": 3,
     "metadata": {},
     "output_type": "execute_result"
    }
   ],
   "source": [
    "addFront(deq,'struktur')\n",
    "addFront(deq,'data')"
   ]
  },
  {
   "cell_type": "code",
   "execution_count": 4,
   "id": "2a3a7936",
   "metadata": {},
   "outputs": [
    {
     "data": {
      "text/plain": [
       "['data', 'struktur', '2018', '2019']"
      ]
     },
     "execution_count": 4,
     "metadata": {},
     "output_type": "execute_result"
    }
   ],
   "source": [
    "addRear(deq,'2018')\n",
    "addRear(deq,'2019')"
   ]
  },
  {
   "cell_type": "code",
   "execution_count": 5,
   "id": "f282c37e",
   "metadata": {},
   "outputs": [
    {
     "data": {
      "text/plain": [
       "['data', 'struktur', '2018', '2019', '100']"
      ]
     },
     "execution_count": 5,
     "metadata": {},
     "output_type": "execute_result"
    }
   ],
   "source": [
    "addRear(deq,'100')"
   ]
  },
  {
   "cell_type": "code",
   "execution_count": 6,
   "id": "93c379e3",
   "metadata": {},
   "outputs": [
    {
     "name": "stdout",
     "output_type": "stream",
     "text": [
      "data\n",
      "['struktur', '2018', '2019', '100']\n"
     ]
    }
   ],
   "source": [
    "data=removeFront(deq)\n",
    "print(data)\n",
    "print(deq)"
   ]
  },
  {
   "cell_type": "code",
   "execution_count": 7,
   "id": "ef7eb49d",
   "metadata": {},
   "outputs": [],
   "source": [
    "def cekPalindrom(string):\n",
    "    palindrom=createDeque()\n",
    "    for huruf in string:\n",
    "        addRear(palindrom,huruf)\n",
    "    cek=True\n",
    "    while size(palindrom)>1:\n",
    "        a=removeRear(palindrom)\n",
    "        b=removeFront(palindrom)\n",
    "        if (a==b):\n",
    "            cek=cek and True\n",
    "        else:\n",
    "            cek=cek and False\n",
    "    return cek"
   ]
  },
  {
   "cell_type": "code",
   "execution_count": 8,
   "id": "c1ef8185",
   "metadata": {},
   "outputs": [
    {
     "name": "stdout",
     "output_type": "stream",
     "text": [
      "True\n",
      "False\n",
      "True\n",
      "True\n",
      "True\n",
      "False\n"
     ]
    }
   ],
   "source": [
    "print(cekPalindrom('hannah'))\n",
    "print(cekPalindrom('surabaya'))\n",
    "print(cekPalindrom('abcdcba'))\n",
    "print(cekPalindrom('katak'))\n",
    "print(cekPalindrom('taat'))\n",
    "print(cekPalindrom('dia'))"
   ]
  },
  {
   "cell_type": "code",
   "execution_count": null,
   "id": "d040c6cf",
   "metadata": {},
   "outputs": [],
   "source": []
  }
 ],
 "metadata": {
  "kernelspec": {
   "display_name": "Python 3 (ipykernel)",
   "language": "python",
   "name": "python3"
  },
  "language_info": {
   "codemirror_mode": {
    "name": "ipython",
    "version": 3
   },
   "file_extension": ".py",
   "mimetype": "text/x-python",
   "name": "python",
   "nbconvert_exporter": "python",
   "pygments_lexer": "ipython3",
   "version": "3.10.6"
  }
 },
 "nbformat": 4,
 "nbformat_minor": 5
}
