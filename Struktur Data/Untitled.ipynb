{
 "cells": [
  {
   "cell_type": "code",
   "execution_count": 2,
   "id": "fc9aa8d0",
   "metadata": {},
   "outputs": [
    {
     "name": "stdout",
     "output_type": "stream",
     "text": [
      "{'u': 3, 'n': 2, 'i': 2, 'v': 1, 'e': 1, 'r': 3, 's': 2, 't': 2, 'a': 3, ' ': 2, 'o': 3, 'j': 1, 'y': 1, 'm': 1, 'd': 1}\n"
     ]
    }
   ],
   "source": [
    "def histogram(kata):\n",
    "    hist={}\n",
    "    for char in kata:\n",
    "        if char in hist:\n",
    "            hist[char]+=1\n",
    "        else:\n",
    "            hist[char]=1\n",
    "    return hist\n",
    "print(histogram('universitas trunojoyo madura'))"
   ]
  },
  {
   "cell_type": "code",
   "execution_count": null,
   "id": "7e512c9b",
   "metadata": {},
   "outputs": [],
   "source": []
  }
 ],
 "metadata": {
  "kernelspec": {
   "display_name": "Python 3 (ipykernel)",
   "language": "python",
   "name": "python3"
  },
  "language_info": {
   "codemirror_mode": {
    "name": "ipython",
    "version": 3
   },
   "file_extension": ".py",
   "mimetype": "text/x-python",
   "name": "python",
   "nbconvert_exporter": "python",
   "pygments_lexer": "ipython3",
   "version": "3.10.6"
  }
 },
 "nbformat": 4,
 "nbformat_minor": 5
}
