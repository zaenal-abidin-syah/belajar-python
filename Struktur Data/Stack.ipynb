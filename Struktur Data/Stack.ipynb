{
 "cells": [
  {
   "cell_type": "markdown",
   "id": "9a82593f",
   "metadata": {},
   "source": [
    "# Stack"
   ]
  },
  {
   "cell_type": "code",
   "execution_count": 1,
   "id": "a1de1eb5",
   "metadata": {},
   "outputs": [],
   "source": [
    "class Stack():\n",
    "    def __init__(self):\n",
    "        self.st = []\n",
    "    def getStack(self):\n",
    "        return self.st\n",
    "    def push(self, data):\n",
    "        self.st.append(data)\n",
    "    def pop(self):\n",
    "        return self.st.pop()\n",
    "    def peek(self):\n",
    "        return self.st[-1]\n",
    "    def isEmpty(self):\n",
    "        return self.st == []\n",
    "    def size(self):\n",
    "        return len(self.st)"
   ]
  },
  {
   "cell_type": "code",
   "execution_count": 1,
   "id": "43009135",
   "metadata": {},
   "outputs": [
    {
     "data": {
      "text/plain": [
       "[7, 8]"
      ]
     },
     "execution_count": 1,
     "metadata": {},
     "output_type": "execute_result"
    }
   ],
   "source": [
    "def stack():\n",
    "    return []\n",
    "def push(stack, data):\n",
    "    stack.append(data)\n",
    "#     stack.insert(0, data)\n",
    "def pop(stack):\n",
    "    return stack.pop()\n",
    "#     p=stack[0]\n",
    "#     stack.remove(stack[0])\n",
    "#     return p\n",
    "def peek(stack):\n",
    "    return stack[-1]\n",
    "#     return stack[0]\n",
    "def isEmpty(stack):\n",
    "    return stack == []\n",
    "def size(stack):\n",
    "    return len(stack)\n",
    "\n",
    "    \n",
    "st = stack()\n",
    "push(st, 7)\n",
    "push(st, 8)\n",
    "push(st, 3)\n",
    "pop(st)\n",
    "st"
   ]
  },
  {
   "cell_type": "code",
   "execution_count": null,
   "id": "17b7de5c",
   "metadata": {},
   "outputs": [],
   "source": [
    "def decToBin(num):\n",
    "    pass"
   ]
  },
  {
   "cell_type": "code",
   "execution_count": 39,
   "id": "4c25a248",
   "metadata": {},
   "outputs": [
    {
     "data": {
      "text/plain": [
       "'olah'"
      ]
     },
     "execution_count": 39,
     "metadata": {},
     "output_type": "execute_result"
    }
   ],
   "source": [
    "def reverse(string):\n",
    "    st=stack()\n",
    "    for i in string:\n",
    "        push(st, i)\n",
    "    temp=''\n",
    "    for i in string:\n",
    "        temp+=pop(st)\n",
    "        \n",
    "    return temp\n",
    "\n",
    "reverse('halo')"
   ]
  },
  {
   "cell_type": "code",
   "execution_count": 16,
   "id": "b00be3d9",
   "metadata": {},
   "outputs": [
    {
     "name": "stdout",
     "output_type": "stream",
     "text": [
      "(\n",
      "stack : ['(']\n",
      "3\n",
      "+\n",
      "8\n",
      ")\n",
      "stack : []\n",
      ")\n",
      "True\n"
     ]
    }
   ],
   "source": [
    "strMath='(3+8))'\n",
    "st=stack()\n",
    "for ch in strMath:\n",
    "    print(ch)\n",
    "    if ch == '(':\n",
    "        push(st, ch)\n",
    "        print('stack :', st)\n",
    "    elif ch ==')':\n",
    "        if isEmpty(st) and ch == strMath[-1]:\n",
    "            err = 'kelebihan kurung tutup'\n",
    "        else:\n",
    "            pop(st)\n",
    "            print('stack :', st)\n",
    "if isEmpty(st):\n",
    "    err = 'True'\n",
    "else:\n",
    "    err = 'kelebihan kurung buka'\n",
    "print(err)"
   ]
  },
  {
   "cell_type": "code",
   "execution_count": 17,
   "id": "6abbefdf",
   "metadata": {},
   "outputs": [
    {
     "name": "stdout",
     "output_type": "stream",
     "text": [
      "6\n"
     ]
    }
   ],
   "source": [
    "print(eval('2+4'))"
   ]
  },
  {
   "cell_type": "code",
   "execution_count": 11,
   "id": "c67d7082",
   "metadata": {},
   "outputs": [],
   "source": [
    "def parenthesisChecking(strMath):\n",
    "    st=stack()\n",
    "    for ch in strMath:\n",
    "        print(ch)\n",
    "        if ch == '(':\n",
    "            push(st, ch)\n",
    "            print('stack :', st)\n",
    "        elif ch ==')':\n",
    "            if isEmpty(st) :\n",
    "                return 'kelebihan kurung tutup'\n",
    "            else:\n",
    "                pop(st)\n",
    "                print('stack :', st)\n",
    "    if isEmpty(st):\n",
    "        return True\n",
    "    else:\n",
    "        return 'kelebihan kurung buka'"
   ]
  },
  {
   "cell_type": "code",
   "execution_count": 12,
   "id": "0595e16d",
   "metadata": {},
   "outputs": [
    {
     "name": "stdout",
     "output_type": "stream",
     "text": [
      "(\n",
      "stack : ['(']\n",
      "3\n",
      "+\n",
      "5\n",
      "(\n",
      "stack : ['(', '(']\n",
      "5\n",
      "+\n",
      "1\n",
      ")\n",
      "stack : ['(']\n",
      ")\n",
      "stack : []\n",
      ")\n"
     ]
    },
    {
     "data": {
      "text/plain": [
       "'kelebihan kurung tutup'"
      ]
     },
     "execution_count": 12,
     "metadata": {},
     "output_type": "execute_result"
    }
   ],
   "source": [
    "parenthesisChecking('(3+5(5+1)))')"
   ]
  },
  {
   "cell_type": "code",
   "execution_count": 106,
   "id": "39e6be4d",
   "metadata": {},
   "outputs": [],
   "source": [
    "def parenthesisChecking2(strMath):\n",
    "    st=stack()\n",
    "    kurung={')':'(', '}':'{' ,']':'['}\n",
    "    kurungBuka= kurung.values()\n",
    "    kurungTutup= kurung.keys()\n",
    "    match = True\n",
    "    for ch in strMath:\n",
    "        print('chart', ch)\n",
    "        if ch in kurungBuka:\n",
    "            push(st, ch)\n",
    "            \n",
    "        if ch in kurungTutup:\n",
    "            if isEmpty(st):\n",
    "                return 'kelebihan kurung tutup'\n",
    "            else:\n",
    "                tempKurung=peek(st)\n",
    "                if kurung[ch] == tempKurung:\n",
    "                    pop(st)\n",
    "                    match = match and True\n",
    "                else:\n",
    "                    match = match and False\n",
    "        print('stack : ', st)\n",
    "    if not(isEmpty(st)):\n",
    "        return 'kelebihan kurung buka'\n",
    "    if match==True:\n",
    "        return 'Ok'\n",
    "    else:\n",
    "        return 'tidak cocok kurungnya'"
   ]
  },
  {
   "cell_type": "code",
   "execution_count": 105,
   "id": "14023bf2",
   "metadata": {},
   "outputs": [
    {
     "name": "stdout",
     "output_type": "stream",
     "text": [
      "dict_keys([')', '}', ']'])\n",
      "chart (\n",
      "stack :  ['(']\n",
      "chart [\n",
      "stack :  ['(', '[']\n",
      "chart 3\n",
      "stack :  ['(', '[']\n",
      "chart +\n",
      "stack :  ['(', '[']\n",
      "chart 5\n",
      "stack :  ['(', '[']\n",
      "chart (\n",
      "stack :  ['(', '[', '(']\n",
      "chart 5\n",
      "stack :  ['(', '[', '(']\n",
      "chart +\n",
      "stack :  ['(', '[', '(']\n",
      "chart 1\n",
      "stack :  ['(', '[', '(']\n",
      "chart )\n",
      "stack :  ['(', '[']\n",
      "chart ]\n",
      "stack :  ['(']\n",
      "chart }\n",
      "stack :  ['(']\n",
      "chart )\n",
      "stack :  []\n"
     ]
    },
    {
     "data": {
      "text/plain": [
       "'tidak cocok kurungnya'"
      ]
     },
     "execution_count": 105,
     "metadata": {},
     "output_type": "execute_result"
    }
   ],
   "source": [
    "parenthesisChecking2('([3+5(5+1)]})')"
   ]
  },
  {
   "cell_type": "code",
   "execution_count": 4,
   "id": "6af2f363",
   "metadata": {},
   "outputs": [],
   "source": [
    "def evaluatePost(postStr):\n",
    "    operandStack=stack()\n",
    "    operator='+-/*'\n",
    "    for i in postStr:\n",
    "        if i not in operator:\n",
    "            push(operandStack,i)\n",
    "        else:\n",
    "            oprnd2=pop(operandStack)\n",
    "            oprnd1=pop(operandStack)\n",
    "            if i=='+':\n",
    "                result=float(oprnd1)+float(oprnd2)\n",
    "            elif i=='-':\n",
    "                result=float(oprnd1)-float(oprnd2)\n",
    "            elif i=='*':\n",
    "                result=float(oprnd1)*float(oprnd2)\n",
    "            else:\n",
    "                result=float(oprnd1)/float(oprnd2)\n",
    "            push(operandStack,result)\n",
    "    return(pop(operandStack))"
   ]
  },
  {
   "cell_type": "code",
   "execution_count": 9,
   "id": "89795eae",
   "metadata": {},
   "outputs": [
    {
     "data": {
      "text/plain": [
       "-6.0"
      ]
     },
     "execution_count": 9,
     "metadata": {},
     "output_type": "execute_result"
    }
   ],
   "source": [
    "evaluatePost('45-6*')"
   ]
  },
  {
   "cell_type": "code",
   "execution_count": 2,
   "id": "5531b819",
   "metadata": {},
   "outputs": [],
   "source": [
    "def evaluatePost2(postStr):\n",
    "    operandStack=stack()\n",
    "    operator='+-/*'\n",
    "    for i in postStr.split(' '):\n",
    "        if i not in operator:\n",
    "            push(operandStack,i)\n",
    "        else:\n",
    "            oprnd2=pop(operandStack)\n",
    "            oprnd1=pop(operandStack)\n",
    "            if i=='+':\n",
    "                result=float(oprnd1)+float(oprnd2)\n",
    "            elif i=='-':\n",
    "                result=float(oprnd1)-float(oprnd2)\n",
    "            elif i=='*':\n",
    "                result=float(oprnd1)*float(oprnd2)\n",
    "            else:\n",
    "                result=float(oprnd1)/float(oprnd2)\n",
    "            push(operandStack,result)\n",
    "    return(pop(operandStack))"
   ]
  },
  {
   "cell_type": "code",
   "execution_count": 7,
   "id": "c30f97ca",
   "metadata": {},
   "outputs": [
    {
     "data": {
      "text/plain": [
       "12.0"
      ]
     },
     "execution_count": 7,
     "metadata": {},
     "output_type": "execute_result"
    }
   ],
   "source": [
    "evaluatePost2('10 8 - 6 *')"
   ]
  },
  {
   "cell_type": "markdown",
   "id": "a4c28092",
   "metadata": {},
   "source": [
    "# Infix, Profix, Prefix\n",
    "\n",
    "infix = a+b*c\n",
    "\n",
    "postfix = abc*+\n",
    "\n",
    "prefix = +a*bc\n",
    "\n",
    "\n",
    "\n",
    "infix = a*b+c\n",
    "\n",
    "postfix = ab*c+ \n",
    "\n",
    "prefix = +*abc\n",
    "\n",
    "\n",
    "infix = a*(b+c)\n",
    "\n",
    "postfix = abc+*\n",
    "\n",
    "prefix = *a+bc\n",
    "\n",
    "\n",
    "infix = (a+b)*c\n",
    "\n",
    "postfix = ab+c*\n",
    "\n",
    "prefix = *+abc\n",
    "\n",
    "\n",
    "infix = a+b*c-d\n",
    "\n",
    "postfix = abc*+d-\n",
    "\n",
    "prefix = -+a*bcd\n",
    "\n",
    "infix = (a+b)*(c-d)\n",
    "\n",
    "postfix = ab+cd-*\n",
    "\n",
    "prefix = *+ab-cd"
   ]
  },
  {
   "cell_type": "code",
   "execution_count": 30,
   "id": "bbe47c80",
   "metadata": {},
   "outputs": [
    {
     "name": "stdout",
     "output_type": "stream",
     "text": [
      "3\n",
      "push ch =  3\n",
      "stack =  ['3']\n",
      "2\n",
      "push ch =  2\n",
      "stack =  ['3', '2']\n",
      "+\n",
      "pop  b =  2 a =  3\n",
      "stack =  [5.0]\n",
      "5\n",
      "push ch =  5\n",
      "stack =  [5.0, '5']\n",
      "1\n",
      "push ch =  1\n",
      "stack =  [5.0, '5', '1']\n",
      "-\n",
      "pop  b =  1 a =  5\n",
      "stack =  [5.0, 4.0]\n",
      "*\n",
      "pop  b =  4.0 a =  5.0\n",
      "stack =  [20.0]\n",
      "20.0\n"
     ]
    }
   ],
   "source": [
    "strMath = \"32+51-*\"\n",
    "operator = \"+-*/\"\n",
    "result = stack()\n",
    "for ch in strMath:\n",
    "    print(ch)\n",
    "    if ch not in operator:\n",
    "        push(result, ch)\n",
    "        print(\"push ch = \", ch)\n",
    "    else:\n",
    "        b = pop(result)\n",
    "        a = pop(result)\n",
    "        print(\"pop \", \"b = \", b, \"a = \", a)\n",
    "        if ch == '+':\n",
    "            res = float(a)+float(b)\n",
    "        elif ch == '-':\n",
    "            res = float(a)-float(b)\n",
    "        elif ch == '*':\n",
    "            res = float(a)*float(b)\n",
    "        elif ch == '/':\n",
    "            res = float(a)/float(b)\n",
    "        push(result, res)\n",
    "    print('stack = ', result)\n",
    "print(pop(result))"
   ]
  },
  {
   "cell_type": "code",
   "execution_count": 21,
   "id": "45d02c35",
   "metadata": {},
   "outputs": [
    {
     "name": "stdout",
     "output_type": "stream",
     "text": [
      "karakter =  A\n",
      "stack =  []\n",
      "output =  A\n",
      "karakter =  /\n",
      "stack =  ['/']\n",
      "output =  A\n",
      "karakter =  B\n",
      "stack =  ['/']\n",
      "output =  AB\n",
      "karakter =  *\n",
      "stack =  ['*']\n",
      "output =  AB/\n",
      "karakter =  D\n",
      "stack =  ['*']\n",
      "output =  AB/D\n",
      "karakter =  -\n",
      "stack =  ['-']\n",
      "output =  AB/D*\n",
      "karakter =  C\n",
      "stack =  ['-']\n",
      "output =  AB/D*C\n",
      "AB/D*C-\n"
     ]
    }
   ],
   "source": [
    "math = \"A/B*D-C\"\n",
    "st = Stack()\n",
    "dic = {\n",
    "    \"+\":0,\n",
    "    \"-\":0,\n",
    "    \"*\":1,\n",
    "    \"/\":1\n",
    "}\n",
    "\n",
    "str_output = ''\n",
    "for ch in math:\n",
    "    print('karakter = ', ch)\n",
    "    if ch not in dic.keys() and ch not in '()' :\n",
    "        str_output+=ch\n",
    "    elif ch in '(':\n",
    "        st.push(ch)\n",
    "    elif ch in ')':\n",
    "        while st.peek() != '(' and not st.isEmpty():\n",
    "            str_output+=st.pop()\n",
    "        if st.peek() == '(':\n",
    "            st.pop()\n",
    "    else:\n",
    "        if not st.isEmpty() and st.peek() != '(':\n",
    "            if dic.get(st.peek()) >= dic.get(ch):\n",
    "                str_output+=st.pop()\n",
    "        st.push(ch)\n",
    "            \n",
    "        \n",
    "    print('stack = ', st.getStack())\n",
    "    print('output = ',str_output)\n",
    "while not st.isEmpty():\n",
    "    str_output+=st.pop()\n",
    "print(str_output)"
   ]
  },
  {
   "cell_type": "code",
   "execution_count": 2,
   "id": "5c4b5b4e",
   "metadata": {},
   "outputs": [],
   "source": [
    "def priority():\n",
    "    return {\n",
    "        '+':0,\n",
    "        '-':0,\n",
    "        '*':1,\n",
    "        '/':1\n",
    "    }\n",
    "def cekPriority(a, b):\n",
    "    return priority().get(a)>=priority().get(b)"
   ]
  },
  {
   "cell_type": "code",
   "execution_count": 57,
   "id": "e81da560",
   "metadata": {},
   "outputs": [],
   "source": [
    "def postfix(strMath):\n",
    "    st = Stack()\n",
    "    str_output = ''\n",
    "    priority=prioritas()\n",
    "    for ch in strMath:\n",
    "        print('karakter = ', ch)\n",
    "        if ch not in priority.keys() and ch not in '()' :\n",
    "            str_output+=ch\n",
    "        elif ch in '(':\n",
    "            st.push(ch)\n",
    "        elif ch in ')':\n",
    "            while st.peek() != '(' and not st.isEmpty():\n",
    "                str_output+=st.pop()\n",
    "            if st.peek() == '(':\n",
    "                st.pop()\n",
    "        else:\n",
    "            if not st.isEmpty() and st.peek() != '(':\n",
    "                if cekPriority(st.peek(), ch):\n",
    "                    str_output+=st.pop()\n",
    "            st.push(ch)\n",
    "\n",
    "\n",
    "        print('stack = ', st.getStack())\n",
    "        print('output = ',str_output)\n",
    "    while not st.isEmpty():\n",
    "        str_output+=st.pop()\n",
    "    print(str_output)"
   ]
  },
  {
   "cell_type": "code",
   "execution_count": 58,
   "id": "57185ce7",
   "metadata": {},
   "outputs": [
    {
     "name": "stdout",
     "output_type": "stream",
     "text": [
      "karakter =  a\n",
      "stack =  []\n",
      "output =  a\n",
      "karakter =  +\n",
      "stack =  ['+']\n",
      "output =  a\n",
      "karakter =  b\n",
      "stack =  ['+']\n",
      "output =  ab\n",
      "karakter =  *\n",
      "stack =  ['+', '*']\n",
      "output =  ab\n",
      "karakter =  n\n",
      "stack =  ['+', '*']\n",
      "output =  abn\n",
      "abn*+\n"
     ]
    }
   ],
   "source": [
    "postfix('a+b*n')"
   ]
  },
  {
   "cell_type": "code",
   "execution_count": 3,
   "id": "9073b26d",
   "metadata": {},
   "outputs": [],
   "source": [
    "def postfix3(strMath):\n",
    "    st = Stack()\n",
    "    str_output = ''\n",
    "    priority=prioritas()\n",
    "    for ch in strMath:\n",
    "        print('karakter = ', ch)\n",
    "        if ch in priority.keys() :\n",
    "            if not st.isEmpty() and st.peek() != '(':\n",
    "                cek = cekPriority(st.peek(), ch)\n",
    "                while cek and not st.isEmpty():\n",
    "                    cek = cekPriority(st.peek(), ch)\n",
    "                    str_output+=st.pop()\n",
    "                    \n",
    "            st.push(ch)\n",
    "        elif ch in '(':\n",
    "            st.push(ch)\n",
    "        elif ch in ')':\n",
    "            while st.peek() != '(' and not st.isEmpty():\n",
    "                str_output+=st.pop()\n",
    "            if st.peek() == '(':\n",
    "                st.pop()\n",
    "        else:\n",
    "            str_output+=ch\n",
    "        print('stack = ', st.getStack())\n",
    "        print('output = ',str_output)\n",
    "    while not st.isEmpty():\n",
    "        str_output+=st.pop()\n",
    "    print(str_output)"
   ]
  },
  {
   "cell_type": "code",
   "execution_count": 4,
   "id": "e9e76402",
   "metadata": {},
   "outputs": [
    {
     "ename": "NameError",
     "evalue": "name 'prioritas' is not defined",
     "output_type": "error",
     "traceback": [
      "\u001b[0;31m---------------------------------------------------------------------------\u001b[0m",
      "\u001b[0;31mNameError\u001b[0m                                 Traceback (most recent call last)",
      "Cell \u001b[0;32mIn [4], line 1\u001b[0m\n\u001b[0;32m----> 1\u001b[0m \u001b[43mpostfix3\u001b[49m\u001b[43m(\u001b[49m\u001b[38;5;124;43m'\u001b[39;49m\u001b[38;5;124;43m(A*(B+C))-D\u001b[39;49m\u001b[38;5;124;43m'\u001b[39;49m\u001b[43m)\u001b[49m\n",
      "Cell \u001b[0;32mIn [3], line 4\u001b[0m, in \u001b[0;36mpostfix3\u001b[0;34m(strMath)\u001b[0m\n\u001b[1;32m      2\u001b[0m st \u001b[38;5;241m=\u001b[39m Stack()\n\u001b[1;32m      3\u001b[0m str_output \u001b[38;5;241m=\u001b[39m \u001b[38;5;124m'\u001b[39m\u001b[38;5;124m'\u001b[39m\n\u001b[0;32m----> 4\u001b[0m priority\u001b[38;5;241m=\u001b[39m\u001b[43mprioritas\u001b[49m()\n\u001b[1;32m      5\u001b[0m \u001b[38;5;28;01mfor\u001b[39;00m ch \u001b[38;5;129;01min\u001b[39;00m strMath:\n\u001b[1;32m      6\u001b[0m     \u001b[38;5;28mprint\u001b[39m(\u001b[38;5;124m'\u001b[39m\u001b[38;5;124mkarakter = \u001b[39m\u001b[38;5;124m'\u001b[39m, ch)\n",
      "\u001b[0;31mNameError\u001b[0m: name 'prioritas' is not defined"
     ]
    }
   ],
   "source": [
    "postfix3('(A*(B+C))-D')"
   ]
  },
  {
   "cell_type": "code",
   "execution_count": null,
   "id": "3835c057",
   "metadata": {},
   "outputs": [],
   "source": []
  }
 ],
 "metadata": {
  "kernelspec": {
   "display_name": "Python 3 (ipykernel)",
   "language": "python",
   "name": "python3"
  },
  "language_info": {
   "codemirror_mode": {
    "name": "ipython",
    "version": 3
   },
   "file_extension": ".py",
   "mimetype": "text/x-python",
   "name": "python",
   "nbconvert_exporter": "python",
   "pygments_lexer": "ipython3",
   "version": "3.10.6"
  }
 },
 "nbformat": 4,
 "nbformat_minor": 5
}
