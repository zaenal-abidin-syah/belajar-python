{
 "cells": [
  {
   "cell_type": "code",
   "execution_count": 1,
   "id": "be741205",
   "metadata": {},
   "outputs": [],
   "source": [
    "def insertionSort(listData):\n",
    "    for outIter in range(1,len(listData)):\n",
    "        print(listData)\n",
    "        key=listData[outIter]\n",
    "        ind=outIter\n",
    "        while (ind>0 and listData[ind-1]>key):\n",
    "            listData[ind]=listData[ind-1]\n",
    "            ind=ind-1\n",
    "            print('inner=',listData)\n",
    "        listData[ind]=key\n",
    "    print('sortedData=',listData)"
   ]
  },
  {
   "cell_type": "code",
   "execution_count": 3,
   "id": "961a557a",
   "metadata": {},
   "outputs": [
    {
     "name": "stdout",
     "output_type": "stream",
     "text": [
      "[10, 2, 5, 8, 1, 20, 2, 2, 4]\n",
      "inner= [10, 10, 5, 8, 1, 20, 2, 2, 4]\n",
      "[2, 10, 5, 8, 1, 20, 2, 2, 4]\n",
      "inner= [2, 10, 10, 8, 1, 20, 2, 2, 4]\n",
      "[2, 5, 10, 8, 1, 20, 2, 2, 4]\n",
      "inner= [2, 5, 10, 10, 1, 20, 2, 2, 4]\n",
      "[2, 5, 8, 10, 1, 20, 2, 2, 4]\n",
      "inner= [2, 5, 8, 10, 10, 20, 2, 2, 4]\n",
      "inner= [2, 5, 8, 8, 10, 20, 2, 2, 4]\n",
      "inner= [2, 5, 5, 8, 10, 20, 2, 2, 4]\n",
      "inner= [2, 2, 5, 8, 10, 20, 2, 2, 4]\n",
      "[1, 2, 5, 8, 10, 20, 2, 2, 4]\n",
      "[1, 2, 5, 8, 10, 20, 2, 2, 4]\n",
      "inner= [1, 2, 5, 8, 10, 20, 20, 2, 4]\n",
      "inner= [1, 2, 5, 8, 10, 10, 20, 2, 4]\n",
      "inner= [1, 2, 5, 8, 8, 10, 20, 2, 4]\n",
      "inner= [1, 2, 5, 5, 8, 10, 20, 2, 4]\n",
      "[1, 2, 2, 5, 8, 10, 20, 2, 4]\n",
      "inner= [1, 2, 2, 5, 8, 10, 20, 20, 4]\n",
      "inner= [1, 2, 2, 5, 8, 10, 10, 20, 4]\n",
      "inner= [1, 2, 2, 5, 8, 8, 10, 20, 4]\n",
      "inner= [1, 2, 2, 5, 5, 8, 10, 20, 4]\n",
      "[1, 2, 2, 2, 5, 8, 10, 20, 4]\n",
      "inner= [1, 2, 2, 2, 5, 8, 10, 20, 20]\n",
      "inner= [1, 2, 2, 2, 5, 8, 10, 10, 20]\n",
      "inner= [1, 2, 2, 2, 5, 8, 8, 10, 20]\n",
      "inner= [1, 2, 2, 2, 5, 5, 8, 10, 20]\n",
      "sortedData= [1, 2, 2, 2, 4, 5, 8, 10, 20]\n"
     ]
    }
   ],
   "source": [
    "b=[10,2,5,8,1,20,2,2,4]\n",
    "# b=[3, 5, 9, 12, 14, 15, 19]\n",
    "insertionSort(b)"
   ]
  },
  {
   "cell_type": "code",
   "execution_count": 20,
   "id": "5953c085",
   "metadata": {},
   "outputs": [
    {
     "name": "stdout",
     "output_type": "stream",
     "text": [
      "3 dibandingkan :  8\n",
      "0 dibandingkan :  3\n",
      "0 dibandingkan :  8\n",
      "4 dibandingkan :  11\n"
     ]
    }
   ],
   "source": [
    "data = [8, 3, 0, 11, 4]\n",
    "for i in range(1, len(data)):\n",
    "#     print(data[i], 'dibandingkan :',data[i-1])\n",
    "    j = i-1\n",
    "    pembanding=data[i]\n",
    "    while j>=0 and pembanding<data[j]:\n",
    "#         print(j)\n",
    "        print(data[i], 'dibandingkan : ', data[j])\n",
    "        j-=1"
   ]
  },
  {
   "cell_type": "code",
   "execution_count": null,
   "id": "3818727c",
   "metadata": {},
   "outputs": [],
   "source": []
  }
 ],
 "metadata": {
  "kernelspec": {
   "display_name": "Python 3 (ipykernel)",
   "language": "python",
   "name": "python3"
  },
  "language_info": {
   "codemirror_mode": {
    "name": "ipython",
    "version": 3
   },
   "file_extension": ".py",
   "mimetype": "text/x-python",
   "name": "python",
   "nbconvert_exporter": "python",
   "pygments_lexer": "ipython3",
   "version": "3.10.6"
  }
 },
 "nbformat": 4,
 "nbformat_minor": 5
}
