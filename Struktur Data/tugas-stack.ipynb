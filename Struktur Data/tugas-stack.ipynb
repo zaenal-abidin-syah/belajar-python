{
 "cells": [
  {
   "cell_type": "markdown",
   "id": "c49bfe99",
   "metadata": {},
   "source": [
    "# tugas struktur data\n",
    "\n",
    "\n",
    "nama : Zaenal abidin syah\n",
    "\n",
    "kelas : strukur data B\n",
    "\n",
    "Nim : 210411100186"
   ]
  },
  {
   "cell_type": "code",
   "execution_count": null,
   "id": "1fd2b58b",
   "metadata": {},
   "outputs": [],
   "source": [
    "def stack():\n",
    "    return []\n",
    "def push(stack, data):\n",
    "    stack.append(data)\n",
    "#     stack.insert(0, data)\n",
    "def pop(stack):\n",
    "    return stack.pop()\n",
    "#     p=stack[0]\n",
    "#     stack.remove(stack[0])\n",
    "#     return p\n",
    "def peek(stack):\n",
    "    return stack[-1]\n",
    "#     return stack[0]\n",
    "def isEmpty(stack):\n",
    "    return stack == []\n",
    "def size(stack):\n",
    "    return len(stack)"
   ]
  },
  {
   "cell_type": "code",
   "execution_count": 3,
   "id": "dd32c8bc",
   "metadata": {},
   "outputs": [],
   "source": [
    "def reverse(string):\n",
    "    st=stack()\n",
    "    for i in string:\n",
    "        push(st, i)\n",
    "    temp=''\n",
    "    for i in string:\n",
    "        temp+=pop(st)\n",
    "        \n",
    "    return temp"
   ]
  },
  {
   "cell_type": "code",
   "execution_count": 4,
   "id": "cbbfcfd1",
   "metadata": {},
   "outputs": [
    {
     "data": {
      "text/plain": [
       "'olah'"
      ]
     },
     "execution_count": 4,
     "metadata": {},
     "output_type": "execute_result"
    }
   ],
   "source": [
    "reverse('halo')"
   ]
  },
  {
   "cell_type": "code",
   "execution_count": 5,
   "id": "f23b2813",
   "metadata": {},
   "outputs": [],
   "source": [
    "def parenthesisChecking(strMath):\n",
    "    st=stack()\n",
    "    for ch in strMath:\n",
    "        print(ch)\n",
    "        if ch == '(':\n",
    "            push(st, ch)\n",
    "            print('stack :', st)\n",
    "        elif ch ==')':\n",
    "            if isEmpty(st):\n",
    "                return 'kelebihan kurung tutup'\n",
    "            else:\n",
    "                pop(st)\n",
    "                print('stack :', st)\n",
    "    if isEmpty(st):\n",
    "        return True\n",
    "    else:\n",
    "        return 'kelebihan kurung buka'"
   ]
  },
  {
   "cell_type": "code",
   "execution_count": 6,
   "id": "0be4a64d",
   "metadata": {},
   "outputs": [
    {
     "name": "stdout",
     "output_type": "stream",
     "text": [
      "(\n",
      "stack : ['(']\n",
      "3\n",
      "+\n",
      "5\n",
      "(\n",
      "stack : ['(', '(']\n",
      "5\n",
      "+\n",
      "1\n",
      ")\n",
      "stack : ['(']\n",
      ")\n",
      "stack : []\n"
     ]
    },
    {
     "data": {
      "text/plain": [
       "True"
      ]
     },
     "execution_count": 6,
     "metadata": {},
     "output_type": "execute_result"
    }
   ],
   "source": [
    "parenthesisChecking('(3+5(5+1))')"
   ]
  },
  {
   "cell_type": "code",
   "execution_count": 7,
   "id": "d37e8a38",
   "metadata": {},
   "outputs": [],
   "source": [
    "def parenthesisChecking2(strMath):\n",
    "    st=stack()\n",
    "    kurung={')':'(', '}':'{' ,']':'['}\n",
    "    kurungBuka= kurung.values()\n",
    "    kurungTutup= kurung.keys()\n",
    "    match = True\n",
    "    for ch in strMath:\n",
    "        print('chart', ch)\n",
    "        if ch in kurungBuka:\n",
    "            push(st, ch)\n",
    "            \n",
    "        if ch in kurungTutup:\n",
    "            if isEmpty(st):\n",
    "                return 'kelebihan kurung tutup'\n",
    "            else:\n",
    "                tempKurung=peek(st)\n",
    "                if kurung[ch] == tempKurung:\n",
    "                    pop(st)\n",
    "                    match = match and True\n",
    "                else:\n",
    "                    match = match and False\n",
    "        print('stack : ', st)\n",
    "    if not(isEmpty(st)):\n",
    "        return 'kelebihan kurung buka'\n",
    "    if match==True:\n",
    "        return 'Ok'\n",
    "    else:\n",
    "        return 'tidak cocok kurungnya'"
   ]
  },
  {
   "cell_type": "code",
   "execution_count": 8,
   "id": "1b21eec7",
   "metadata": {},
   "outputs": [
    {
     "name": "stdout",
     "output_type": "stream",
     "text": [
      "chart (\n",
      "stack :  ['(']\n",
      "chart [\n",
      "stack :  ['(', '[']\n",
      "chart 3\n",
      "stack :  ['(', '[']\n",
      "chart +\n",
      "stack :  ['(', '[']\n",
      "chart 5\n",
      "stack :  ['(', '[']\n",
      "chart (\n",
      "stack :  ['(', '[', '(']\n",
      "chart 5\n",
      "stack :  ['(', '[', '(']\n",
      "chart +\n",
      "stack :  ['(', '[', '(']\n",
      "chart 1\n",
      "stack :  ['(', '[', '(']\n",
      "chart )\n",
      "stack :  ['(', '[']\n",
      "chart ]\n",
      "stack :  ['(']\n",
      "chart }\n",
      "stack :  ['(']\n",
      "chart )\n",
      "stack :  []\n"
     ]
    },
    {
     "data": {
      "text/plain": [
       "'tidak cocok kurungnya'"
      ]
     },
     "execution_count": 8,
     "metadata": {},
     "output_type": "execute_result"
    }
   ],
   "source": [
    "parenthesisChecking2('([3+5(5+1)]})')"
   ]
  },
  {
   "cell_type": "code",
   "execution_count": null,
   "id": "e9d69dfd",
   "metadata": {},
   "outputs": [],
   "source": []
  }
 ],
 "metadata": {
  "kernelspec": {
   "display_name": "Python 3 (ipykernel)",
   "language": "python",
   "name": "python3"
  },
  "language_info": {
   "codemirror_mode": {
    "name": "ipython",
    "version": 3
   },
   "file_extension": ".py",
   "mimetype": "text/x-python",
   "name": "python",
   "nbconvert_exporter": "python",
   "pygments_lexer": "ipython3",
   "version": "3.10.6"
  }
 },
 "nbformat": 4,
 "nbformat_minor": 5
}
