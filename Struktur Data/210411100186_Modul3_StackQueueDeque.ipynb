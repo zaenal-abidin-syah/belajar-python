{
 "cells": [
  {
   "cell_type": "markdown",
   "id": "d6a80226",
   "metadata": {},
   "source": [
    "# Konsep_1\n",
    "\n",
    "Queue adalah struktur data berupa antrian atau antrean, di mana elemen-elemen baru ditambahkan di satu ujung dan elemen yang sudah ada diproses dan dihapus dari ujung yang lain. \n",
    "\n",
    "Operasi paling umum pada Queue\n",
    "- enqueue (menambahkan elemen ke dalam antrian)\n",
    "- dequeue (mengeluarkan elemen dari antrian)\n",
    "- peek (melihat elemen paling depan tanpa menghapusnya)\n",
    "- is_empty (mengecek apakah antrian kosong)\n",
    "\n",
    "Deque (Double Ended Queue) adalah struktur data yang mirip dengan Queue, tetapi elemen dapat ditambahkan atau dihapus dari kedua ujung. \n",
    "\n",
    "Operasi-operasi pada Deque\n",
    "- addFront (menambahkan elemen di ujung depan)\n",
    "- addRear (menambahkan elemen di ujung belakang)\n",
    "- removeFront (menghapus elemen dari ujung depan)\n",
    "- removeRear (menghapus elemen dari ujung belakang)\n",
    "- is_empty (mengecek apakah deque kosong)."
   ]
  },
  {
   "cell_type": "code",
   "execution_count": 1,
   "id": "b9249cd0",
   "metadata": {},
   "outputs": [],
   "source": [
    "class Stack():\n",
    "    def __init__(self):\n",
    "        self.st = []\n",
    "    def getStack(self):\n",
    "        return self.st\n",
    "    def push(self, data):\n",
    "        self.st.append(data)\n",
    "    def pop(self):\n",
    "        return self.st.pop()\n",
    "    def peek(self):\n",
    "        return self.st[-1]\n",
    "    def isEmpty(self):\n",
    "        return self.st == []\n",
    "    def size(self):\n",
    "        return len(self.st)"
   ]
  },
  {
   "cell_type": "code",
   "execution_count": 49,
   "id": "3433ab9e",
   "metadata": {},
   "outputs": [],
   "source": [
    "def createDeque():\n",
    "    d=[]\n",
    "    return (d)\n",
    "def addFront(d,data):\n",
    "    d.insert(0,data)\n",
    "    return(d)\n",
    "def addRear(d,data):\n",
    "    d.append(data)\n",
    "    return(d)\n",
    "def removeRear(d):\n",
    "    data=d.pop()\n",
    "    return(data)\n",
    "def removeFront(d):\n",
    "    data=d.pop(0)\n",
    "    return(data)\n",
    "def isEmpty(d):\n",
    "    return (d==[])\n",
    "def size(d):\n",
    "    return (len(d))"
   ]
  },
  {
   "cell_type": "code",
   "execution_count": 76,
   "id": "4b49654a",
   "metadata": {},
   "outputs": [],
   "source": [
    "def createQueue(): \n",
    "    q=[] \n",
    "    return (q) \n",
    "def enqueue(q,data):\n",
    "    q.insert(0,data)\n",
    "    return(q) \n",
    "def dequeue(q):\n",
    "    data=q.pop()\n",
    "    return(data) \n",
    "def isEmpty(q):\n",
    "    return (q==[]) \n",
    "def size(q):\n",
    "    return (len(q))"
   ]
  },
  {
   "cell_type": "markdown",
   "id": "6390408b",
   "metadata": {},
   "source": [
    "# Implementasi_2.1"
   ]
  },
  {
   "cell_type": "code",
   "execution_count": 11,
   "id": "478eec36",
   "metadata": {},
   "outputs": [],
   "source": [
    "def inf2Post(strMath):\n",
    "    st = Stack()\n",
    "    str_output = ''\n",
    "    priority={\n",
    "        '+':0,\n",
    "        '-':0,\n",
    "        '*':1,\n",
    "        '/':1\n",
    "    }\n",
    "    def cekPriority(a, b):\n",
    "        return priority.get(a)>=priority.get(b)\n",
    "    for i in range(len(strMath)):\n",
    "        print(f\"token-{i+1} : \", strMath[i])\n",
    "        if strMath[i] in priority.keys() :\n",
    "            if not st.isEmpty() and st.peek() != '(':\n",
    "                print('cek')\n",
    "                cek = cekPriority(st.peek(), strMath[i])\n",
    "                while cek and not st.isEmpty():\n",
    "                    cek = cekPriority(st.peek(), strMath[i])\n",
    "                    str_output+=st.pop()\n",
    "                    \n",
    "            st.push(strMath[i])\n",
    "        elif strMath[i] in '(':\n",
    "            st.push(strMath[i])\n",
    "        elif strMath[i] in ')':\n",
    "            while st.peek() != '(' and not st.isEmpty():\n",
    "                str_output+=st.pop()\n",
    "            if st.peek() == '(':\n",
    "                st.pop()\n",
    "        else:\n",
    "            str_output+=strMath[i]\n",
    "        print('stack : ', st.getStack(), end='\\n\\n')\n",
    "    while not st.isEmpty():\n",
    "        str_output+=st.pop()\n",
    "    return str_output"
   ]
  },
  {
   "cell_type": "code",
   "execution_count": 13,
   "id": "94c21338",
   "metadata": {},
   "outputs": [
    {
     "name": "stdout",
     "output_type": "stream",
     "text": [
      "token-1 :  (\n",
      "stack :  ['(']\n",
      "\n",
      "token-2 :  (\n",
      "stack :  ['(', '(']\n",
      "\n",
      "token-3 :  a\n",
      "stack :  ['(', '(']\n",
      "\n",
      "token-4 :  +\n",
      "stack :  ['(', '(', '+']\n",
      "\n",
      "token-5 :  b\n",
      "stack :  ['(', '(', '+']\n",
      "\n",
      "token-6 :  )\n",
      "stack :  ['(']\n",
      "\n",
      "token-7 :  *\n",
      "stack :  ['(', '*']\n",
      "\n",
      "token-8 :  (\n",
      "stack :  ['(', '*', '(']\n",
      "\n",
      "token-9 :  c\n",
      "stack :  ['(', '*', '(']\n",
      "\n",
      "token-10 :  -\n",
      "stack :  ['(', '*', '(', '-']\n",
      "\n",
      "token-11 :  d\n",
      "stack :  ['(', '*', '(', '-']\n",
      "\n",
      "token-12 :  )\n",
      "stack :  ['(', '*']\n",
      "\n",
      "token-13 :  )\n",
      "stack :  []\n",
      "\n",
      "token-14 :  /\n",
      "stack :  ['/']\n",
      "\n",
      "token-15 :  f\n",
      "stack :  ['/']\n",
      "\n",
      "(A*(B+C))*F-D =  ab+cd-*f/\n"
     ]
    }
   ],
   "source": [
    "print('(A*(B+C))*F-D = ', inf2Post('((a+b)*(c-d))/f'))"
   ]
  },
  {
   "cell_type": "markdown",
   "id": "41f5de7a",
   "metadata": {},
   "source": [
    "# Implementasi_2.2"
   ]
  },
  {
   "cell_type": "code",
   "execution_count": 46,
   "id": "4a04c512",
   "metadata": {},
   "outputs": [],
   "source": [
    "def evaluatePostFix(postStr):\n",
    "    st=Stack()\n",
    "    operator='+-/*'\n",
    "    ind = 1\n",
    "    for i in postStr.split(' '):\n",
    "        if i not in operator:\n",
    "            st.push(i)\n",
    "        else:\n",
    "            oprnd2=st.pop()\n",
    "            oprnd1=st.pop()\n",
    "            if i=='+':\n",
    "                result=float(oprnd1)+float(oprnd2)\n",
    "            elif i=='-':\n",
    "                result=float(oprnd1)-float(oprnd2)\n",
    "            elif i=='*':\n",
    "                result=float(oprnd1)*float(oprnd2)\n",
    "            else:\n",
    "                result=float(oprnd1)/float(oprnd2)\n",
    "                \n",
    "            print(f\"[{ind}]:\", oprnd1,i , oprnd2, '=', result)\n",
    "            ind+=1\n",
    "            st.push(result)\n",
    "    return st.pop()"
   ]
  },
  {
   "cell_type": "code",
   "execution_count": 48,
   "id": "49cb6b40",
   "metadata": {},
   "outputs": [
    {
     "name": "stdout",
     "output_type": "stream",
     "text": [
      "[1]: 3 * 4 = 12.0\n",
      "[2]: 12.0 / 10 = 1.2\n",
      "[3]: 2 + 1.2 = 3.2\n",
      "[4]: 3.2 - 11 = -7.8\n",
      "[5]: 9 * 2 = 18.0\n",
      "[6]: -7.8 + 18.0 = 10.2\n"
     ]
    },
    {
     "data": {
      "text/plain": [
       "10.2"
      ]
     },
     "execution_count": 48,
     "metadata": {},
     "output_type": "execute_result"
    }
   ],
   "source": [
    "evaluatePostFix('2 3 4 * 10 / + 11 - 9 2 * +')"
   ]
  },
  {
   "cell_type": "markdown",
   "id": "a6f59880",
   "metadata": {},
   "source": [
    "# Implementasi_2.3"
   ]
  },
  {
   "cell_type": "code",
   "execution_count": 60,
   "id": "52c97254",
   "metadata": {},
   "outputs": [],
   "source": [
    "def cekPalindrom(string):\n",
    "    palindrom=createDeque()\n",
    "    for huruf in string:\n",
    "        addRear(palindrom,huruf)\n",
    "    cek=True\n",
    "    while size(palindrom)>1:\n",
    "        a=removeRear(palindrom)\n",
    "        b=removeFront(palindrom)\n",
    "        if (a==b):\n",
    "            cek=cek and True\n",
    "        else:\n",
    "            cek=cek and False\n",
    "        print(f\"front and rear --> {b}  == {a} ? : {cek}\")\n",
    "    return cek"
   ]
  },
  {
   "cell_type": "code",
   "execution_count": 61,
   "id": "ba33f911",
   "metadata": {},
   "outputs": [
    {
     "name": "stdout",
     "output_type": "stream",
     "text": [
      "front and rear --> k  == k ? : True\n",
      "front and rear --> a  == a ? : True\n"
     ]
    },
    {
     "data": {
      "text/plain": [
       "True"
      ]
     },
     "execution_count": 61,
     "metadata": {},
     "output_type": "execute_result"
    }
   ],
   "source": [
    "cekPalindrom('katak')"
   ]
  },
  {
   "cell_type": "markdown",
   "id": "045d8a49",
   "metadata": {},
   "source": [
    "# Implementasi_2.4"
   ]
  },
  {
   "cell_type": "code",
   "execution_count": 77,
   "id": "435da4a4",
   "metadata": {},
   "outputs": [],
   "source": [
    "def scheduling():\n",
    "    task=createQueue()\n",
    "    jml=int(input(\"Jumlah proses yang akan dijadwal di CPU = \"))\n",
    "    for i in range(jml):\n",
    "        name=input(f\"Nama proses ke- {i} : \")\n",
    "        time=int(input(\"Waktu Proses : \"))\n",
    "        enqueue(task, [name,time])\n",
    "    print(\"Antrian proses beserta waktunya =\", task)\n",
    "    time_proc=int(input(\"Waktu proses CPU = \"))\n",
    "    x=1\n",
    "    while not isEmpty(task):\n",
    "        print(\"iterasi ke-\", x)\n",
    "        a=dequeue(task)\n",
    "        if a[1] > time_proc:\n",
    "            temp=a[1]-time_proc\n",
    "            print(f\"\\tProses {a[0]} sedang di proses, dan sisa waktu proses {a[0]} = {temp}\")\n",
    "            enqueue(task, [a[0],temp])\n",
    "        else:\n",
    "            print(f\"\\tProses {a[0]} telah selesai diproses\")\n",
    "        print(f\"\\tData proses yang tersisa\", task)\n",
    "        x+=1"
   ]
  },
  {
   "cell_type": "code",
   "execution_count": 78,
   "id": "faa998da",
   "metadata": {},
   "outputs": [
    {
     "name": "stdout",
     "output_type": "stream",
     "text": [
      "Jumlah proses yang akan dijadwal di CPU = 3\n",
      "Nama proses ke- 0 : A\n",
      "Waktu Proses : 5\n",
      "Nama proses ke- 1 : B\n",
      "Waktu Proses : 9\n",
      "Nama proses ke- 2 : C\n",
      "Waktu Proses : 2\n",
      "Antrian proses beserta waktunya = [['C', 2], ['B', 9], ['A', 5]]\n",
      "Waktu proses CPU = 3\n",
      "iterasi ke- 1\n",
      "\tProses A sedang di proses, dan sisa waktu proses A = 2\n",
      "\tData proses yang tersisa [['A', 2], ['C', 2], ['B', 9]]\n",
      "iterasi ke- 2\n",
      "\tProses B sedang di proses, dan sisa waktu proses B = 6\n",
      "\tData proses yang tersisa [['B', 6], ['A', 2], ['C', 2]]\n",
      "iterasi ke- 3\n",
      "\tProses C telah selesai diproses\n",
      "\tData proses yang tersisa [['B', 6], ['A', 2]]\n",
      "iterasi ke- 4\n",
      "\tProses A telah selesai diproses\n",
      "\tData proses yang tersisa [['B', 6]]\n",
      "iterasi ke- 5\n",
      "\tProses B sedang di proses, dan sisa waktu proses B = 3\n",
      "\tData proses yang tersisa [['B', 3]]\n",
      "iterasi ke- 6\n",
      "\tProses B telah selesai diproses\n",
      "\tData proses yang tersisa []\n"
     ]
    }
   ],
   "source": [
    "scheduling()"
   ]
  },
  {
   "cell_type": "code",
   "execution_count": null,
   "id": "d09d188a",
   "metadata": {},
   "outputs": [],
   "source": []
  }
 ],
 "metadata": {
  "kernelspec": {
   "display_name": "Python 3 (ipykernel)",
   "language": "python",
   "name": "python3"
  },
  "language_info": {
   "codemirror_mode": {
    "name": "ipython",
    "version": 3
   },
   "file_extension": ".py",
   "mimetype": "text/x-python",
   "name": "python",
   "nbconvert_exporter": "python",
   "pygments_lexer": "ipython3",
   "version": "3.10.6"
  }
 },
 "nbformat": 4,
 "nbformat_minor": 5
}
