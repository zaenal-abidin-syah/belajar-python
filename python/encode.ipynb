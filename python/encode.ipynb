{
 "cells": [
  {
   "cell_type": "code",
   "execution_count": 1,
   "id": "c364bdf9-ada6-4a29-9ba2-f5b8691fb994",
   "metadata": {},
   "outputs": [],
   "source": [
    "import pandas as pd"
   ]
  },
  {
   "cell_type": "code",
   "execution_count": 3,
   "id": "3df745f5-5005-4417-a49f-767082cc8f1f",
   "metadata": {},
   "outputs": [
    {
     "data": {
      "text/html": [
       "<div>\n",
       "<style scoped>\n",
       "    .dataframe tbody tr th:only-of-type {\n",
       "        vertical-align: middle;\n",
       "    }\n",
       "\n",
       "    .dataframe tbody tr th {\n",
       "        vertical-align: top;\n",
       "    }\n",
       "\n",
       "    .dataframe thead th {\n",
       "        text-align: right;\n",
       "    }\n",
       "</style>\n",
       "<table border=\"1\" class=\"dataframe\">\n",
       "  <thead>\n",
       "    <tr style=\"text-align: right;\">\n",
       "      <th></th>\n",
       "      <th>Nama</th>\n",
       "      <th>Umur</th>\n",
       "      <th>Jenis_Kelamin</th>\n",
       "      <th>Pekerjaan</th>\n",
       "    </tr>\n",
       "  </thead>\n",
       "  <tbody>\n",
       "    <tr>\n",
       "      <th>0</th>\n",
       "      <td>Andi</td>\n",
       "      <td>23</td>\n",
       "      <td>Pria</td>\n",
       "      <td>Mahasiswa</td>\n",
       "    </tr>\n",
       "    <tr>\n",
       "      <th>1</th>\n",
       "      <td>Budi</td>\n",
       "      <td>25</td>\n",
       "      <td>Pria</td>\n",
       "      <td>Mahasiswa</td>\n",
       "    </tr>\n",
       "    <tr>\n",
       "      <th>2</th>\n",
       "      <td>Citra</td>\n",
       "      <td>29</td>\n",
       "      <td>Wanita</td>\n",
       "      <td>Dosen</td>\n",
       "    </tr>\n",
       "    <tr>\n",
       "      <th>3</th>\n",
       "      <td>Dewi</td>\n",
       "      <td>24</td>\n",
       "      <td>Wanita</td>\n",
       "      <td>Karyawan</td>\n",
       "    </tr>\n",
       "    <tr>\n",
       "      <th>4</th>\n",
       "      <td>Eka</td>\n",
       "      <td>23</td>\n",
       "      <td>Pria</td>\n",
       "      <td>Mahasiswa</td>\n",
       "    </tr>\n",
       "  </tbody>\n",
       "</table>\n",
       "</div>"
      ],
      "text/plain": [
       "    Nama  Umur Jenis_Kelamin  Pekerjaan\n",
       "0   Andi    23          Pria  Mahasiswa\n",
       "1   Budi    25          Pria  Mahasiswa\n",
       "2  Citra    29        Wanita      Dosen\n",
       "3   Dewi    24        Wanita   Karyawan\n",
       "4    Eka    23          Pria  Mahasiswa"
      ]
     },
     "execution_count": 3,
     "metadata": {},
     "output_type": "execute_result"
    }
   ],
   "source": [
    "df = pd.read_csv('data.csv')\n",
    "df.head()"
   ]
  },
  {
   "cell_type": "code",
   "execution_count": 4,
   "id": "a57faaa2-38df-405f-ace6-78f96a9af7c1",
   "metadata": {},
   "outputs": [
    {
     "data": {
      "text/html": [
       "<div>\n",
       "<style scoped>\n",
       "    .dataframe tbody tr th:only-of-type {\n",
       "        vertical-align: middle;\n",
       "    }\n",
       "\n",
       "    .dataframe tbody tr th {\n",
       "        vertical-align: top;\n",
       "    }\n",
       "\n",
       "    .dataframe thead th {\n",
       "        text-align: right;\n",
       "    }\n",
       "</style>\n",
       "<table border=\"1\" class=\"dataframe\">\n",
       "  <thead>\n",
       "    <tr style=\"text-align: right;\">\n",
       "      <th></th>\n",
       "      <th>Nama</th>\n",
       "      <th>Umur</th>\n",
       "      <th>Jenis_Kelamin</th>\n",
       "      <th>Pekerjaan_Dosen</th>\n",
       "      <th>Pekerjaan_Karyawan</th>\n",
       "      <th>Pekerjaan_Mahasiswa</th>\n",
       "    </tr>\n",
       "  </thead>\n",
       "  <tbody>\n",
       "    <tr>\n",
       "      <th>0</th>\n",
       "      <td>Andi</td>\n",
       "      <td>23</td>\n",
       "      <td>Pria</td>\n",
       "      <td>False</td>\n",
       "      <td>False</td>\n",
       "      <td>True</td>\n",
       "    </tr>\n",
       "    <tr>\n",
       "      <th>1</th>\n",
       "      <td>Budi</td>\n",
       "      <td>25</td>\n",
       "      <td>Pria</td>\n",
       "      <td>False</td>\n",
       "      <td>False</td>\n",
       "      <td>True</td>\n",
       "    </tr>\n",
       "    <tr>\n",
       "      <th>2</th>\n",
       "      <td>Citra</td>\n",
       "      <td>29</td>\n",
       "      <td>Wanita</td>\n",
       "      <td>True</td>\n",
       "      <td>False</td>\n",
       "      <td>False</td>\n",
       "    </tr>\n",
       "    <tr>\n",
       "      <th>3</th>\n",
       "      <td>Dewi</td>\n",
       "      <td>24</td>\n",
       "      <td>Wanita</td>\n",
       "      <td>False</td>\n",
       "      <td>True</td>\n",
       "      <td>False</td>\n",
       "    </tr>\n",
       "    <tr>\n",
       "      <th>4</th>\n",
       "      <td>Eka</td>\n",
       "      <td>23</td>\n",
       "      <td>Pria</td>\n",
       "      <td>False</td>\n",
       "      <td>False</td>\n",
       "      <td>True</td>\n",
       "    </tr>\n",
       "  </tbody>\n",
       "</table>\n",
       "</div>"
      ],
      "text/plain": [
       "    Nama  Umur Jenis_Kelamin  Pekerjaan_Dosen  Pekerjaan_Karyawan  \\\n",
       "0   Andi    23          Pria            False               False   \n",
       "1   Budi    25          Pria            False               False   \n",
       "2  Citra    29        Wanita             True               False   \n",
       "3   Dewi    24        Wanita            False                True   \n",
       "4    Eka    23          Pria            False               False   \n",
       "\n",
       "   Pekerjaan_Mahasiswa  \n",
       "0                 True  \n",
       "1                 True  \n",
       "2                False  \n",
       "3                False  \n",
       "4                 True  "
      ]
     },
     "execution_count": 4,
     "metadata": {},
     "output_type": "execute_result"
    }
   ],
   "source": [
    "df = pd.get_dummies(df, columns=['Pekerjaan'])\n",
    "df.head()"
   ]
  },
  {
   "cell_type": "code",
   "execution_count": 8,
   "id": "b2cc95b0-f684-493d-89f6-54493bb08eae",
   "metadata": {},
   "outputs": [
    {
     "name": "stdout",
     "output_type": "stream",
     "text": [
      "Mean: 24.25\n",
      "Median: 23.5\n",
      "Modus: 23\n"
     ]
    }
   ],
   "source": [
    "kolom_numerik = df['Umur']\n",
    "mean = kolom_numerik.mean()\n",
    "median = kolom_numerik.median()\n",
    "modus = kolom_numerik.mode()[0]\n",
    "print(f\"Mean: {mean}\\nMedian: {median}\\nModus: {modus}\")"
   ]
  },
  {
   "cell_type": "code",
   "execution_count": 9,
   "id": "01801ef1-5206-4489-bfc7-100e29d289cf",
   "metadata": {},
   "outputs": [
    {
     "name": "stdout",
     "output_type": "stream",
     "text": [
      "Range: 9, \n",
      "Variance: 7.4772727272727275, \n",
      "Standar Deviasi: 2.7344602259445514\n"
     ]
    }
   ],
   "source": [
    "range_value = kolom_numerik.max() - kolom_numerik.min()\n",
    "variance = kolom_numerik.var()\n",
    "std_dev = kolom_numerik.std()\n",
    "print(f\"Range: {range_value}, \\nVariance: {variance}, \\nStandar Deviasi: {std_dev}\")"
   ]
  }
 ],
 "metadata": {
  "kernelspec": {
   "display_name": "Python 3 (ipykernel)",
   "language": "python",
   "name": "python3"
  },
  "language_info": {
   "codemirror_mode": {
    "name": "ipython",
    "version": 3
   },
   "file_extension": ".py",
   "mimetype": "text/x-python",
   "name": "python",
   "nbconvert_exporter": "python",
   "pygments_lexer": "ipython3",
   "version": "3.11.9"
  }
 },
 "nbformat": 4,
 "nbformat_minor": 5
}
