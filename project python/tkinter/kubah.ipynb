{
 "cells": [
  {
   "cell_type": "code",
   "execution_count": 38,
   "metadata": {},
   "outputs": [
    {
     "ename": "TclError",
     "evalue": "wrong # coordinates: expected 0 or 4, got 8",
     "output_type": "error",
     "traceback": [
      "\u001b[0;31m---------------------------------------------------------------------------\u001b[0m",
      "\u001b[0;31mTclError\u001b[0m                                  Traceback (most recent call last)",
      "Cell \u001b[0;32mIn[38], line 12\u001b[0m\n\u001b[1;32m     10\u001b[0m y2 \u001b[38;5;241m=\u001b[39m \u001b[38;5;241m400\u001b[39m\n\u001b[1;32m     11\u001b[0m \u001b[38;5;66;03m# rectangle = canvas.create_rectangle(x1, y1, x2, y2, fill=\"green\")\u001b[39;00m\n\u001b[0;32m---> 12\u001b[0m rectangle \u001b[38;5;241m=\u001b[39m canvas\u001b[38;5;241m.\u001b[39mcreate_rectangle(\u001b[38;5;241m250\u001b[39m, \u001b[38;5;241m0\u001b[39m, \u001b[38;5;241m500\u001b[39m, \u001b[38;5;241m250\u001b[39m, \u001b[38;5;241m250\u001b[39m, \u001b[38;5;241m500\u001b[39m, \u001b[38;5;241m0\u001b[39m, \u001b[38;5;241m250\u001b[39m, fill\u001b[38;5;241m=\u001b[39m\u001b[38;5;124m\"\u001b[39m\u001b[38;5;124mgreen\u001b[39m\u001b[38;5;124m\"\u001b[39m)\n\u001b[1;32m     14\u001b[0m center \u001b[38;5;241m=\u001b[39m \u001b[38;5;241m150\u001b[39m\n\u001b[1;32m     15\u001b[0m n \u001b[38;5;241m=\u001b[39m \u001b[38;5;241m50\u001b[39m\n",
      "File \u001b[0;32m~/anaconda3/envs/GrafikaKomputer/lib/python3.11/tkinter/__init__.py:2862\u001b[0m, in \u001b[0;36mCanvas.create_rectangle\u001b[0;34m(self, *args, **kw)\u001b[0m\n\u001b[1;32m   2860\u001b[0m \u001b[38;5;28;01mdef\u001b[39;00m \u001b[38;5;21mcreate_rectangle\u001b[39m(\u001b[38;5;28mself\u001b[39m, \u001b[38;5;241m*\u001b[39margs, \u001b[38;5;241m*\u001b[39m\u001b[38;5;241m*\u001b[39mkw):\n\u001b[1;32m   2861\u001b[0m \u001b[38;5;250m    \u001b[39m\u001b[38;5;124;03m\"\"\"Create rectangle with coordinates x1,y1,x2,y2.\"\"\"\u001b[39;00m\n\u001b[0;32m-> 2862\u001b[0m     \u001b[38;5;28;01mreturn\u001b[39;00m \u001b[38;5;28mself\u001b[39m\u001b[38;5;241m.\u001b[39m_create(\u001b[38;5;124m'\u001b[39m\u001b[38;5;124mrectangle\u001b[39m\u001b[38;5;124m'\u001b[39m, args, kw)\n",
      "File \u001b[0;32m~/anaconda3/envs/GrafikaKomputer/lib/python3.11/tkinter/__init__.py:2832\u001b[0m, in \u001b[0;36mCanvas._create\u001b[0;34m(self, itemType, args, kw)\u001b[0m\n\u001b[1;32m   2830\u001b[0m \u001b[38;5;28;01melse\u001b[39;00m:\n\u001b[1;32m   2831\u001b[0m     cnf \u001b[38;5;241m=\u001b[39m {}\n\u001b[0;32m-> 2832\u001b[0m \u001b[38;5;28;01mreturn\u001b[39;00m \u001b[38;5;28mself\u001b[39m\u001b[38;5;241m.\u001b[39mtk\u001b[38;5;241m.\u001b[39mgetint(\u001b[38;5;28mself\u001b[39m\u001b[38;5;241m.\u001b[39mtk\u001b[38;5;241m.\u001b[39mcall(\n\u001b[1;32m   2833\u001b[0m     \u001b[38;5;28mself\u001b[39m\u001b[38;5;241m.\u001b[39m_w, \u001b[38;5;124m'\u001b[39m\u001b[38;5;124mcreate\u001b[39m\u001b[38;5;124m'\u001b[39m, itemType,\n\u001b[1;32m   2834\u001b[0m     \u001b[38;5;241m*\u001b[39m(args \u001b[38;5;241m+\u001b[39m \u001b[38;5;28mself\u001b[39m\u001b[38;5;241m.\u001b[39m_options(cnf, kw))))\n",
      "\u001b[0;31mTclError\u001b[0m: wrong # coordinates: expected 0 or 4, got 8"
     ]
    }
   ],
   "source": [
    "import tkinter as tk\n",
    "import math\n",
    "root = tk.Tk()\n",
    "\n",
    "canvas = tk.Canvas(root, width=500, height=500)\n",
    "\n",
    "x1 = 100\n",
    "y1 = 100\n",
    "x2 = 400\n",
    "y2 = 400\n",
    "# rectangle = canvas.create_rectangle(x1, y1, x2, y2, fill=\"green\")\n",
    "rectangle = canvas.create_rectangle(250, 0, 500, 250, 250, 500, 0, 250, fill=\"green\")\n",
    "\n",
    "center = 150\n",
    "n = 50\n",
    "\n",
    "\n",
    "# dx = 100\n",
    "# angle_rad = 90\n",
    "# dy = 100\n",
    "# cx = 400\n",
    "# cy = 400\n",
    "# new_x = dx * math.cos(angle_rad) - dy * math.sin(angle_rad) + cx\n",
    "# new_y = dx * math.sin(angle_rad) + dy * math.cos(angle_rad) + cy\n",
    "\n",
    "# rectangle = canvas.create_rectangle(250, 50, 50, 250, fill=\"green\")\n",
    "canvas.grid(row=0, column=1)\n",
    "\n",
    "root.mainloop()"
   ]
  },
  {
   "cell_type": "code",
   "execution_count": 26,
   "metadata": {},
   "outputs": [
    {
     "name": "stdout",
     "output_type": "stream",
     "text": [
      "-67.21104241937552\n"
     ]
    }
   ],
   "source": [
    "print(150 *math.cos(90))"
   ]
  }
 ],
 "metadata": {
  "kernelspec": {
   "display_name": "GrafikaKomputer",
   "language": "python",
   "name": "python3"
  },
  "language_info": {
   "codemirror_mode": {
    "name": "ipython",
    "version": 3
   },
   "file_extension": ".py",
   "mimetype": "text/x-python",
   "name": "python",
   "nbconvert_exporter": "python",
   "pygments_lexer": "ipython3",
   "version": "3.11.7"
  }
 },
 "nbformat": 4,
 "nbformat_minor": 2
}
