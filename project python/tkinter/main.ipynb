{
 "cells": [
  {
   "cell_type": "code",
   "execution_count": 3,
   "metadata": {},
   "outputs": [],
   "source": [
    "# line_1.py\n",
    "#>>>>>>>>>>>>>>>>>>>>>>>>>>>>>>>>>>\n",
    "from tkinter import Tk, Canvas, Frame, BOTH\n",
    "root = Tk()\n",
    "root.title('Dasar Membuat Garis Tkinter')\n",
    "cw = 800 # canvas width, in pixels\n",
    "ch = 200 # canvas height, in pixels\n",
    "canvas_1 = Canvas(root, width=cw, height=ch)\n",
    "canvas_1.grid(row=0, column=1) # placement\n",
    "\n",
    "x_start = 100 # bottom left\n",
    "y_start = 100\n",
    "x_end = 500 # top right\n",
    "y_end = 30\n",
    "canvas_1.create_line(x_start, y_start,\n",
    "x_end,y_end)\n",
    "root.mainloop()"
   ]
  },
  {
   "cell_type": "code",
   "execution_count": 4,
   "metadata": {},
   "outputs": [],
   "source": [
    "# 3rectangles.py\n",
    "#>>>>>>>>>>>>>>>>>>>>>>>>>>>>>>>>>>>>>>>>>>>\n",
    "\n",
    "root = Tk()\n",
    "root.title('Overlapping rectangles')\n",
    "cw = 240 # canvas width\n",
    "ch = 180 # canvas height\n",
    "canvas_1 = Canvas(root, width=cw, height=200,\n",
    "background=\"green\")\n",
    "canvas_1.grid(row=0, column=1)\n",
    "# persegi panjang biru tua - dicat terlebih dahulu\n",
    "\n",
    "x_start = 10\n",
    "y_start = 30\n",
    "x_width =70\n",
    "y_height = 90\n",
    "kula =\"darkblue\"\n",
    "canvas_1.create_rectangle( x_start, y_start,\\\n",
    "x_start + x_width, y_start + y_height, fill=kula)\n",
    "# persegi panjang merah tua - kedua karena itu di\n",
    "\n",
    "x_start = 30\n",
    "y_start = 50\n",
    "kula =\"darkred\"\n",
    "canvas_1.create_rectangle( x_start, y_start,\\\n",
    "x_start + x_width, y_start + y_height, fill=kula)\n",
    "# persegi panjang hijau tua - dicat terakhir\n",
    "\n",
    "x_start = 50\n",
    "y_start = 70\n",
    "kula =\"darkgreen\"\n",
    "canvas_1.create_rectangle( x_start, y_start,\\\n",
    "x_start + x_width, y_start + y_height, fill=kula)\n",
    "root.mainloop()"
   ]
  }
 ],
 "metadata": {
  "kernelspec": {
   "display_name": "Python 3",
   "language": "python",
   "name": "python3"
  },
  "language_info": {
   "codemirror_mode": {
    "name": "ipython",
    "version": 3
   },
   "file_extension": ".py",
   "mimetype": "text/x-python",
   "name": "python",
   "nbconvert_exporter": "python",
   "pygments_lexer": "ipython3",
   "version": "3.11.7"
  }
 },
 "nbformat": 4,
 "nbformat_minor": 2
}
